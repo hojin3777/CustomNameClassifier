{
 "cells": [
  {
   "cell_type": "code",
   "execution_count": null,
   "id": "441c02b2",
   "metadata": {},
   "outputs": [],
   "source": [
    "### 입력으로 상호명을 받으면 업종분류를 반환하는 프로그램\n",
    "# MeCab으로 미리 전처리한 후 불러와서 학습에 사용"
   ]
  },
  {
   "cell_type": "code",
   "execution_count": 2,
   "id": "32d9e808",
   "metadata": {},
   "outputs": [
    {
     "name": "stderr",
     "output_type": "stream",
     "text": [
      "c:\\code\\.venv\\lib\\site-packages\\tqdm\\auto.py:21: TqdmWarning: IProgress not found. Please update jupyter and ipywidgets. See https://ipywidgets.readthedocs.io/en/stable/user_install.html\n",
      "  from .autonotebook import tqdm as notebook_tqdm\n"
     ]
    }
   ],
   "source": [
    "import pandas as pd\n",
    "import numpy as np\n",
    "import torch\n",
    "import torch.nn as nn\n",
    "import torch.optim as optim\n",
    "import torch.nn.functional as F\n",
    "import matplotlib.pyplot as plt\n",
    "import pickle\n",
    "import seaborn as sns\n",
    "import time\n",
    "import os\n",
    "\n",
    "from tqdm import tqdm\n",
    "from konlpy.tag import Mecab\n",
    "from sklearn.model_selection import train_test_split\n",
    "from sklearn.metrics import classification_report, precision_score, recall_score, f1_score\n",
    "from sklearn.metrics import confusion_matrix\n",
    "from transformers import BertTokenizerFast, BertConfig, BertModel # Bert 모델과 토크나이저\n",
    "from torch.utils.data import Dataset, DataLoader\n",
    "from collections import Counter\n",
    "\n",
    "plt.rcParams['font.family'] = 'Malgun Gothic'\n",
    "plt.rcParams['axes.unicode_minus'] = False"
   ]
  },
  {
   "cell_type": "code",
   "execution_count": 9,
   "id": "2e99313d",
   "metadata": {},
   "outputs": [
    {
     "name": "stdout",
     "output_type": "stream",
     "text": [
      "현재 디바이스: cuda\n"
     ]
    }
   ],
   "source": [
    "torch.cuda.init()\n",
    "device = torch.device('cuda' if torch.cuda.is_available() else 'cpu')\n",
    "torch.cuda.reset_peak_memory_stats(device=None)\n",
    "print(\"현재 디바이스:\", device)\n",
    "\n",
    "os.environ['CUDA_LAUNCH_BLOCKING'] = \"1\"\n",
    "os.environ['CUDA_VISIBLE_DEVICES'] = \"0\"\n",
    "os.environ['TORCH_USE_CUDA_DSA'] = \"1\""
   ]
  },
  {
   "cell_type": "code",
   "execution_count": 10,
   "id": "c8d74701",
   "metadata": {},
   "outputs": [],
   "source": [
    "# 전처리된 CSV 파일 로드\n",
    "def load_processed_data(file_path):\n",
    "    \"\"\"\n",
    "    처리된 CSV 파일을 로드하는 함수\n",
    "    \"\"\"\n",
    "    df = pd.read_csv(file_path)\n",
    "    print(f\"로드된 데이터 크기: {df.shape}\")\n",
    "    print(f\"컬럼 목록: {df.columns.tolist()}\")\n",
    "    \n",
    "    # 필요한 열만 추출 (업체명과 클래스)\n",
    "    result_df = df[['상호명_Regulated', '클래스']].copy()\n",
    "    \n",
    "    # 컬럼명 통일\n",
    "    result_df.columns = ['store', 'class']\n",
    "    \n",
    "    print(f\"전처리 후 데이터 크기: {result_df.shape}\")\n",
    "    return result_df"
   ]
  },
  {
   "cell_type": "code",
   "execution_count": 11,
   "id": "0e1eb9b3",
   "metadata": {},
   "outputs": [
    {
     "name": "stdout",
     "output_type": "stream",
     "text": [
      "로드된 데이터 크기: (1818487, 5)\n",
      "컬럼 목록: ['상가업소번호', '지역', '상호명_Regulated', '업종소분류_Regulated', '클래스']\n",
      "전처리 후 데이터 크기: (1818487, 2)\n"
     ]
    }
   ],
   "source": [
    "data_df = load_processed_data('./processed_data/region_all_processed_data.csv')"
   ]
  },
  {
   "cell_type": "code",
   "execution_count": 12,
   "id": "aec033e3",
   "metadata": {},
   "outputs": [],
   "source": [
    "def split_dataset(df, test_size=0.2, random_state=42):\n",
    "    \"\"\"\n",
    "    데이터를 훈련용과 테스트용으로 분할하는 함수\n",
    "    \"\"\"\n",
    "    # 클래스 분포 확인\n",
    "    num_classes = df['class'].nunique()\n",
    "    print(f\"고유 클래스 수: {num_classes}\")\n",
    "    \n",
    "    # 데이터셋 분할 (stratify로 클래스 분포 유지)\n",
    "    train_df, test_df = train_test_split(\n",
    "        df, \n",
    "        test_size=test_size, \n",
    "        random_state=random_state,\n",
    "        stratify=df['class']\n",
    "    )\n",
    "    \n",
    "    print(f\"훈련 데이터 크기: {train_df.shape}\")\n",
    "    print(f\"테스트 데이터 크기: {test_df.shape}\")\n",
    "\n",
    "    return train_df, test_df"
   ]
  },
  {
   "cell_type": "code",
   "execution_count": 13,
   "id": "5e6d2980",
   "metadata": {},
   "outputs": [
    {
     "name": "stdout",
     "output_type": "stream",
     "text": [
      "고유 클래스 수: 247\n",
      "훈련 데이터 크기: (1454789, 2)\n",
      "테스트 데이터 크기: (363698, 2)\n"
     ]
    }
   ],
   "source": [
    "train_df, test_df = split_dataset(data_df)"
   ]
  },
  {
   "cell_type": "code",
   "execution_count": 14,
   "id": "60e3b3bb",
   "metadata": {},
   "outputs": [
    {
     "data": {
      "application/vnd.microsoft.datawrangler.viewer.v0+json": {
       "columns": [
        {
         "name": "index",
         "rawType": "int64",
         "type": "integer"
        },
        {
         "name": "store",
         "rawType": "object",
         "type": "string"
        },
        {
         "name": "class",
         "rawType": "int64",
         "type": "integer"
        }
       ],
       "conversionMethod": "pd.DataFrame",
       "ref": "08a64155-dac4-4105-939c-171db7372568",
       "rows": [
        [
         "1607566",
         "드림아트",
         "80"
        ],
        [
         "1385651",
         "온가족국수",
         "35"
        ],
        [
         "313687",
         "알로하훌라스튜디오",
         "76"
        ],
        [
         "1811134",
         "전자담배라미야김제점",
         "117"
        ],
        [
         "1391266",
         "몽키리코에프엔비완주봉동지점",
         "214"
        ],
        [
         "554311",
         "송월타올왜관점",
         "213"
        ],
        [
         "1016601",
         "시나본여의도",
         "214"
        ],
        [
         "1615771",
         "네일 그대와",
         "66"
        ],
        [
         "550540",
         "파리바게뜨형곡우방점",
         "107"
        ],
        [
         "687215",
         "세은식당매점",
         "33"
        ],
        [
         "1245972",
         "미미네꼼지락마을",
         "153"
        ],
        [
         "12698",
         "도미성모텔",
         "150"
        ],
        [
         "1451629",
         "이천아크릴",
         "80"
        ],
        [
         "671427",
         "화본역전분식",
         "60"
        ],
        [
         "1566396",
         "월드세차장",
         "183"
        ],
        [
         "1605335",
         "유명공인중개사사무소",
         "103"
        ],
        [
         "545778",
         "미스터컵대평점",
         "214"
        ],
        [
         "408213",
         "위즈플로우어학원",
         "180"
        ],
        [
         "458564",
         "클린김해지점",
         "18"
        ],
        [
         "960912",
         "두툼한숯불생고기",
         "74"
        ],
        [
         "1490546",
         "민정커피아산배방점",
         "214"
        ],
        [
         "1194568",
         "깜헤어메이크업",
         "87"
        ],
        [
         "1406587",
         "아마빌레민박",
         "228"
        ],
        [
         "926669",
         "토비아스",
         "107"
        ],
        [
         "3488",
         "포토이즘강릉점",
         "112"
        ],
        [
         "521255",
         "함양크린하집사",
         "18"
        ],
        [
         "1419526",
         "산방산나들목",
         "91"
        ],
        [
         "1576976",
         "명품살롱",
         "87"
        ],
        [
         "277934",
         "노블투",
         "55"
        ],
        [
         "1561507",
         "선진물류",
         "6"
        ],
        [
         "946720",
         "리틀스탠드",
         "55"
        ],
        [
         "1202732",
         "수산코노",
         "127"
        ],
        [
         "1220396",
         "칠갑산오감전골",
         "34"
        ],
        [
         "128526",
         "네비게이션서비스센터",
         "184"
        ],
        [
         "1279472",
         "당하시그니처독서실",
         "72"
        ],
        [
         "1025278",
         "속눈썹쟁이",
         "231"
        ],
        [
         "918968",
         "챠이나궁",
         "204"
        ],
        [
         "893942",
         "풀리풀리",
         "147"
        ],
        [
         "1525875",
         "씨톡영어",
         "157"
        ],
        [
         "761561",
         "아날도바시니대전",
         "55"
        ],
        [
         "316394",
         "훌랄라숯불치킨파주다율점",
         "212"
        ],
        [
         "1591298",
         "땅콩",
         "214"
        ],
        [
         "548994",
         "맛짱순대집",
         "34"
        ],
        [
         "174098",
         "차이나각",
         "204"
        ],
        [
         "701805",
         "우연가구",
         "11"
        ],
        [
         "1041637",
         "원위크",
         "60"
        ],
        [
         "581887",
         "구미간판현수막",
         "80"
        ],
        [
         "824463",
         "스튜디오엘루",
         "112"
        ],
        [
         "584009",
         "성동가가",
         "214"
        ],
        [
         "683492",
         "헤어경",
         "87"
        ]
       ],
       "shape": {
        "columns": 2,
        "rows": 1454789
       }
      },
      "text/html": [
       "<div>\n",
       "<style scoped>\n",
       "    .dataframe tbody tr th:only-of-type {\n",
       "        vertical-align: middle;\n",
       "    }\n",
       "\n",
       "    .dataframe tbody tr th {\n",
       "        vertical-align: top;\n",
       "    }\n",
       "\n",
       "    .dataframe thead th {\n",
       "        text-align: right;\n",
       "    }\n",
       "</style>\n",
       "<table border=\"1\" class=\"dataframe\">\n",
       "  <thead>\n",
       "    <tr style=\"text-align: right;\">\n",
       "      <th></th>\n",
       "      <th>store</th>\n",
       "      <th>class</th>\n",
       "    </tr>\n",
       "  </thead>\n",
       "  <tbody>\n",
       "    <tr>\n",
       "      <th>1607566</th>\n",
       "      <td>드림아트</td>\n",
       "      <td>80</td>\n",
       "    </tr>\n",
       "    <tr>\n",
       "      <th>1385651</th>\n",
       "      <td>온가족국수</td>\n",
       "      <td>35</td>\n",
       "    </tr>\n",
       "    <tr>\n",
       "      <th>313687</th>\n",
       "      <td>알로하훌라스튜디오</td>\n",
       "      <td>76</td>\n",
       "    </tr>\n",
       "    <tr>\n",
       "      <th>1811134</th>\n",
       "      <td>전자담배라미야김제점</td>\n",
       "      <td>117</td>\n",
       "    </tr>\n",
       "    <tr>\n",
       "      <th>1391266</th>\n",
       "      <td>몽키리코에프엔비완주봉동지점</td>\n",
       "      <td>214</td>\n",
       "    </tr>\n",
       "    <tr>\n",
       "      <th>...</th>\n",
       "      <td>...</td>\n",
       "      <td>...</td>\n",
       "    </tr>\n",
       "    <tr>\n",
       "      <th>354405</th>\n",
       "      <td>크린토피아홈플러스서</td>\n",
       "      <td>123</td>\n",
       "    </tr>\n",
       "    <tr>\n",
       "      <th>798530</th>\n",
       "      <td>신한철물</td>\n",
       "      <td>207</td>\n",
       "    </tr>\n",
       "    <tr>\n",
       "      <th>1446488</th>\n",
       "      <td>갈목철공소</td>\n",
       "      <td>11</td>\n",
       "    </tr>\n",
       "    <tr>\n",
       "      <th>971736</th>\n",
       "      <td>이사랑서울치과의원</td>\n",
       "      <td>211</td>\n",
       "    </tr>\n",
       "    <tr>\n",
       "      <th>1598779</th>\n",
       "      <td>빅토리아여관</td>\n",
       "      <td>150</td>\n",
       "    </tr>\n",
       "  </tbody>\n",
       "</table>\n",
       "<p>1454789 rows × 2 columns</p>\n",
       "</div>"
      ],
      "text/plain": [
       "                  store  class\n",
       "1607566            드림아트     80\n",
       "1385651           온가족국수     35\n",
       "313687        알로하훌라스튜디오     76\n",
       "1811134      전자담배라미야김제점    117\n",
       "1391266  몽키리코에프엔비완주봉동지점    214\n",
       "...                 ...    ...\n",
       "354405       크린토피아홈플러스서    123\n",
       "798530             신한철물    207\n",
       "1446488           갈목철공소     11\n",
       "971736        이사랑서울치과의원    211\n",
       "1598779          빅토리아여관    150\n",
       "\n",
       "[1454789 rows x 2 columns]"
      ]
     },
     "execution_count": 14,
     "metadata": {},
     "output_type": "execute_result"
    }
   ],
   "source": [
    "train_df\n",
    "# test_df"
   ]
  },
  {
   "cell_type": "code",
   "execution_count": 15,
   "id": "d99eb291",
   "metadata": {},
   "outputs": [
    {
     "data": {
      "application/vnd.microsoft.datawrangler.viewer.v0+json": {
       "columns": [
        {
         "name": "class",
         "rawType": "int64",
         "type": "integer"
        },
        {
         "name": "store",
         "rawType": "int64",
         "type": "integer"
        }
       ],
       "conversionMethod": "pd.DataFrame",
       "ref": "88000779-923f-4f88-8153-2096edbcb046",
       "rows": [
        [
         "0",
         "4147"
        ],
        [
         "1",
         "6031"
        ],
        [
         "2",
         "582"
        ],
        [
         "3",
         "2262"
        ],
        [
         "4",
         "1308"
        ],
        [
         "5",
         "4653"
        ],
        [
         "6",
         "6648"
        ],
        [
         "7",
         "3035"
        ],
        [
         "8",
         "536"
        ],
        [
         "9",
         "1026"
        ],
        [
         "10",
         "4614"
        ],
        [
         "11",
         "4987"
        ],
        [
         "12",
         "9406"
        ],
        [
         "13",
         "4641"
        ],
        [
         "14",
         "786"
        ],
        [
         "15",
         "2155"
        ],
        [
         "16",
         "2764"
        ],
        [
         "17",
         "12344"
        ],
        [
         "18",
         "10215"
        ],
        [
         "19",
         "1197"
        ],
        [
         "20",
         "10777"
        ],
        [
         "21",
         "32998"
        ],
        [
         "22",
         "6532"
        ],
        [
         "23",
         "1059"
        ],
        [
         "24",
         "6851"
        ],
        [
         "25",
         "3530"
        ],
        [
         "26",
         "845"
        ],
        [
         "27",
         "1142"
        ],
        [
         "28",
         "17917"
        ],
        [
         "29",
         "298"
        ],
        [
         "30",
         "4265"
        ],
        [
         "31",
         "5224"
        ],
        [
         "32",
         "3297"
        ],
        [
         "33",
         "4532"
        ],
        [
         "34",
         "15713"
        ],
        [
         "35",
         "10502"
        ],
        [
         "36",
         "3470"
        ],
        [
         "37",
         "2935"
        ],
        [
         "38",
         "2281"
        ],
        [
         "39",
         "1121"
        ],
        [
         "40",
         "1114"
        ],
        [
         "41",
         "4904"
        ],
        [
         "42",
         "10517"
        ],
        [
         "43",
         "270"
        ],
        [
         "44",
         "126"
        ],
        [
         "45",
         "975"
        ],
        [
         "46",
         "2328"
        ],
        [
         "47",
         "574"
        ],
        [
         "48",
         "1256"
        ],
        [
         "49",
         "6689"
        ]
       ],
       "shape": {
        "columns": 1,
        "rows": 247
       }
      },
      "text/html": [
       "<div>\n",
       "<style scoped>\n",
       "    .dataframe tbody tr th:only-of-type {\n",
       "        vertical-align: middle;\n",
       "    }\n",
       "\n",
       "    .dataframe tbody tr th {\n",
       "        vertical-align: top;\n",
       "    }\n",
       "\n",
       "    .dataframe thead th {\n",
       "        text-align: right;\n",
       "    }\n",
       "</style>\n",
       "<table border=\"1\" class=\"dataframe\">\n",
       "  <thead>\n",
       "    <tr style=\"text-align: right;\">\n",
       "      <th></th>\n",
       "      <th>store</th>\n",
       "    </tr>\n",
       "    <tr>\n",
       "      <th>class</th>\n",
       "      <th></th>\n",
       "    </tr>\n",
       "  </thead>\n",
       "  <tbody>\n",
       "    <tr>\n",
       "      <th>0</th>\n",
       "      <td>4147</td>\n",
       "    </tr>\n",
       "    <tr>\n",
       "      <th>1</th>\n",
       "      <td>6031</td>\n",
       "    </tr>\n",
       "    <tr>\n",
       "      <th>2</th>\n",
       "      <td>582</td>\n",
       "    </tr>\n",
       "    <tr>\n",
       "      <th>3</th>\n",
       "      <td>2262</td>\n",
       "    </tr>\n",
       "    <tr>\n",
       "      <th>4</th>\n",
       "      <td>1308</td>\n",
       "    </tr>\n",
       "    <tr>\n",
       "      <th>...</th>\n",
       "      <td>...</td>\n",
       "    </tr>\n",
       "    <tr>\n",
       "      <th>242</th>\n",
       "      <td>1275</td>\n",
       "    </tr>\n",
       "    <tr>\n",
       "      <th>243</th>\n",
       "      <td>734</td>\n",
       "    </tr>\n",
       "    <tr>\n",
       "      <th>244</th>\n",
       "      <td>14120</td>\n",
       "    </tr>\n",
       "    <tr>\n",
       "      <th>245</th>\n",
       "      <td>1451</td>\n",
       "    </tr>\n",
       "    <tr>\n",
       "      <th>246</th>\n",
       "      <td>10550</td>\n",
       "    </tr>\n",
       "  </tbody>\n",
       "</table>\n",
       "<p>247 rows × 1 columns</p>\n",
       "</div>"
      ],
      "text/plain": [
       "       store\n",
       "class       \n",
       "0       4147\n",
       "1       6031\n",
       "2        582\n",
       "3       2262\n",
       "4       1308\n",
       "...      ...\n",
       "242     1275\n",
       "243      734\n",
       "244    14120\n",
       "245     1451\n",
       "246    10550\n",
       "\n",
       "[247 rows x 1 columns]"
      ]
     },
     "execution_count": 15,
     "metadata": {},
     "output_type": "execute_result"
    }
   ],
   "source": [
    "train_df.groupby(by=['class']).count()"
   ]
  },
  {
   "cell_type": "code",
   "execution_count": 16,
   "id": "4f2805b2",
   "metadata": {},
   "outputs": [
    {
     "name": "stdout",
     "output_type": "stream",
     "text": [
      "['봉', '##암', '##쇼핑'] ['밀', '##사랑', '##손', '##칼국수'] ['태', '##민', '##건축', '##적', '##산', '##사무소'] ['스타벅스', '##r', '##리', '##저', '##브', '##강', '##남', '##대로', '##점'] ['로그인', '##커피'] ['스타벅스', '##r', '##리', '##저', '##브', '##강', '##남', '##속', '##편한', '##치', '##과', '##건', '##너', '##편', '##점']\n",
      "['봉암', '쇼핑'] ['밀사', '랑', '손칼국수'] ['태민', '건축', '적', '산', '사무소'] ['스타', '벅스', 'R', '리저브', '강남대로', '점'] ['로그인', '커피'] ['스타', '벅스', 'R', '리저브', '강남', '속편', '한', '치과', '건너편', '점']\n"
     ]
    }
   ],
   "source": [
    "tokenizer = BertTokenizerFast.from_pretrained('kykim/bert-kor-base')\n",
    "token1 = tokenizer.tokenize(\"봉암쇼핑\")\n",
    "token2 = tokenizer.tokenize(\"밀사랑손칼국수\")\n",
    "token3 = tokenizer.tokenize(\"태민건축적산사무소\")\n",
    "token4 = tokenizer.tokenize(\"스타벅스R리저브강남대로점\")\n",
    "token5 = tokenizer.tokenize(\"로그인커피\")\n",
    "token6 = tokenizer.tokenize(\"스타벅스R리저브강남속편한치과건너편점\")\n",
    "print(token1, token2, token3, token4, token5, token6)\n",
    "\n",
    "mecab = Mecab(dicpath='C:/mecab/mecab-ko-dic')\n",
    "token1 = mecab.morphs(\"봉암쇼핑\")\n",
    "token2 = mecab.morphs(\"밀사랑손칼국수\")\n",
    "token3 = mecab.morphs(\"태민건축적산사무소\")\n",
    "token4 = mecab.morphs(\"스타벅스R리저브강남대로점\")\n",
    "token5 = mecab.morphs(\"로그인커피\")\n",
    "token6 = mecab.morphs(\"스타벅스R리저브강남속편한치과건너편점\")\n",
    "print(token1, token2, token3, token4, token5, token6)"
   ]
  },
  {
   "cell_type": "code",
   "execution_count": 17,
   "id": "006360d6",
   "metadata": {},
   "outputs": [],
   "source": [
    "# 토크나이저 세팅\n",
    "mecab = Mecab(dicpath='C:/mecab/mecab-ko-dic')\n",
    "bert_tokenizer = BertTokenizerFast.from_pretrained('kykim/bert-kor-base')\n",
    "vocab = bert_tokenizer.get_vocab()  # huggingface vocab 사용"
   ]
  },
  {
   "cell_type": "code",
   "execution_count": 18,
   "id": "19fe3940",
   "metadata": {},
   "outputs": [],
   "source": [
    "# mecab을 활용하여 bert tokenizer vocab에 맞게 변환\n",
    "def mecab_tokenize_and_encode(sentence, vocab, max_length=60):\n",
    "    tokens = mecab.morphs(str(sentence))\n",
    "    # vocab에 없는 토큰은 [UNK]로 처리\n",
    "    input_ids = [vocab.get('[CLS]', 2)]  # [CLS] 토큰\n",
    "    for token in tokens:\n",
    "        input_ids.append(vocab.get(token, vocab.get('[UNK]', 3)))\n",
    "    input_ids.append(vocab.get('[SEP]', 3))  # [SEP] 토큰\n",
    "    # 패딩\n",
    "    if len(input_ids) < max_length:\n",
    "        input_ids += [vocab.get('[PAD]', 0)] * (max_length - len(input_ids))\n",
    "    else:\n",
    "        input_ids = input_ids[:max_length]\n",
    "    attention_mask = [1 if idx != vocab.get('[PAD]', 0) else 0 for idx in input_ids]\n",
    "    token_type_ids = [0] * max_length\n",
    "    return {\n",
    "        'input_ids': torch.tensor(input_ids, dtype=torch.long),\n",
    "        'attention_mask': torch.tensor(attention_mask, dtype=torch.long),\n",
    "        'token_type_ids': torch.tensor(token_type_ids, dtype=torch.long)\n",
    "    }"
   ]
  },
  {
   "cell_type": "code",
   "execution_count": 12,
   "id": "193cc118",
   "metadata": {},
   "outputs": [
    {
     "data": {
      "text/plain": [
       "{'input_ids': tensor([    2, 14314,     1,     1,     1, 16938,     1,  7653, 28026,     1,\n",
       "          6030,     3,     0,     0,     0,     0,     0,     0,     0,     0,\n",
       "             0,     0,     0,     0,     0,     0,     0,     0,     0,     0,\n",
       "             0,     0,     0,     0,     0,     0,     0,     0,     0,     0,\n",
       "             0,     0,     0,     0,     0,     0,     0,     0,     0,     0,\n",
       "             0,     0,     0,     0,     0,     0,     0,     0,     0,     0]),\n",
       " 'attention_mask': tensor([1, 1, 1, 1, 1, 1, 1, 1, 1, 1, 1, 1, 0, 0, 0, 0, 0, 0, 0, 0, 0, 0, 0, 0,\n",
       "         0, 0, 0, 0, 0, 0, 0, 0, 0, 0, 0, 0, 0, 0, 0, 0, 0, 0, 0, 0, 0, 0, 0, 0,\n",
       "         0, 0, 0, 0, 0, 0, 0, 0, 0, 0, 0, 0]),\n",
       " 'token_type_ids': tensor([0, 0, 0, 0, 0, 0, 0, 0, 0, 0, 0, 0, 0, 0, 0, 0, 0, 0, 0, 0, 0, 0, 0, 0,\n",
       "         0, 0, 0, 0, 0, 0, 0, 0, 0, 0, 0, 0, 0, 0, 0, 0, 0, 0, 0, 0, 0, 0, 0, 0,\n",
       "         0, 0, 0, 0, 0, 0, 0, 0, 0, 0, 0, 0])}"
      ]
     },
     "execution_count": 12,
     "metadata": {},
     "output_type": "execute_result"
    }
   ],
   "source": [
    "temp_word = mecab_tokenize_and_encode(\"스타벅스R리저브강남속편한치과건너편점\", vocab) # 기존 tokenizer와 동일한 형식인지 확인\n",
    "temp_word"
   ]
  },
  {
   "cell_type": "code",
   "execution_count": 19,
   "id": "a3a91c28",
   "metadata": {},
   "outputs": [],
   "source": [
    "class TokenDataset_Mecab(Dataset):\n",
    "    def __init__(self, pickle_path):\n",
    "        self.data = pickle.load(open(pickle_path, 'rb'))\n",
    "    def __len__(self):\n",
    "        return len(self.data)\n",
    "    def __getitem__(self, idx):\n",
    "        tokens, label = self.data[idx]\n",
    "        return tokens, label"
   ]
  },
  {
   "cell_type": "code",
   "execution_count": 14,
   "id": "73a3db6e",
   "metadata": {},
   "outputs": [],
   "source": [
    "class TokenDataset(Dataset):\n",
    "    def __init__(self, dataframe, tokenizer_pretrained):\n",
    "        # sentence, label 컬럼으로 구성된 데이터프레임 전달\n",
    "        self.data = dataframe        \n",
    "        # Huggingface 토크나이저 생성\n",
    "        self.tokenizer = BertTokenizerFast.from_pretrained(tokenizer_pretrained)\n",
    "  \n",
    "    def __len__(self):\n",
    "        return len(self.data)\n",
    "  \n",
    "    def __getitem__(self, idx):\n",
    "        sentence = self.data.iloc[idx]['store']\n",
    "        label = self.data.iloc[idx]['class']\n",
    "\n",
    "        # 토큰화 처리\n",
    "        tokens = self.tokenizer(\n",
    "            str(sentence),                # 1개 문장 \n",
    "            return_tensors='pt',     # 텐서로 반환\n",
    "            truncation=True,         # 잘라내기 적용\n",
    "            padding='max_length',    # 패딩 적용\n",
    "            max_length=60,          # 최대 길이 60\n",
    "            add_special_tokens=True  # 스페셜 토큰 적용\n",
    "        )\n",
    "\n",
    "        input_ids = tokens['input_ids'].squeeze(0)           # 2D -> 1D\n",
    "        attention_mask = tokens['attention_mask'].squeeze(0) # 2D -> 1D\n",
    "        token_type_ids = torch.zeros_like(attention_mask)\n",
    "\n",
    "        # input_ids, attention_mask, token_type_ids 이렇게 3가지 요소를 반환하도록 합니다.\n",
    "        # input_ids: 토큰\n",
    "        # attention_mask: 실제 단어가 존재하면 1, 패딩이면 0 (패딩은 0이 아닐 수 있습니다)\n",
    "        # token_type_ids: 문장을 구분하는 id. 단일 문장인 경우에는 전부 0\n",
    "        return {\n",
    "            'input_ids': input_ids,\n",
    "            'attention_mask': attention_mask, \n",
    "            'token_type_ids': token_type_ids,\n",
    "        }, torch.tensor(label)"
   ]
  },
  {
   "cell_type": "code",
   "execution_count": 23,
   "id": "58b11d0c",
   "metadata": {},
   "outputs": [],
   "source": [
    "def preprocess_and_save(dataset_df, vocab, save_path):\n",
    "    processed = []\n",
    "    for idx, row in tqdm(dataset_df.iterrows(), total=len(dataset_df)):\n",
    "        tokens = mecab_tokenize_and_encode(row['store'], vocab)\n",
    "        label = torch.tensor(int(row['class']))\n",
    "        processed.append((tokens, label))\n",
    "    pickle.dump(processed, open(save_path, 'wb'))\n",
    "    print(f\"Saved {len(processed)} samples to {save_path}\")"
   ]
  },
  {
   "cell_type": "code",
   "execution_count": 24,
   "id": "43c3eefc",
   "metadata": {},
   "outputs": [
    {
     "name": "stderr",
     "output_type": "stream",
     "text": [
      "100%|██████████| 1454789/1454789 [01:52<00:00, 12982.48it/s]\n"
     ]
    },
    {
     "name": "stdout",
     "output_type": "stream",
     "text": [
      "Saved 1454789 samples to ./processed_data/train_mecab_tokenized.pkl\n"
     ]
    },
    {
     "name": "stderr",
     "output_type": "stream",
     "text": [
      "100%|██████████| 363698/363698 [00:22<00:00, 16308.89it/s]\n"
     ]
    },
    {
     "name": "stdout",
     "output_type": "stream",
     "text": [
      "Saved 363698 samples to ./processed_data/test_mecab_tokenized.pkl\n"
     ]
    }
   ],
   "source": [
    "# 학습/테스트 데이터셋 MeCab으로 미리 전처리 및 저장\n",
    "preprocess_and_save(train_df, vocab, './processed_data/train_mecab_tokenized.pkl')\n",
    "preprocess_and_save(test_df, vocab, './processed_data/test_mecab_tokenized.pkl')"
   ]
  },
  {
   "cell_type": "code",
   "execution_count": 25,
   "id": "92a56e08",
   "metadata": {},
   "outputs": [],
   "source": [
    "train_data = TokenDataset_Mecab('./processed_data/train_mecab_tokenized.pkl')\n",
    "test_data = TokenDataset_Mecab('./processed_data/test_mecab_tokenized.pkl')\n",
    "\n",
    "# DataLoader로 이전에 생성한 Dataset를 지정하여, batch 구성, shuffle, num_workers 등을 설정합니다.\n",
    "train_loader = DataLoader(train_data, batch_size=64, shuffle=True, num_workers=0)\n",
    "test_loader = DataLoader(test_data, batch_size=64, shuffle=True, num_workers=0)"
   ]
  },
  {
   "cell_type": "code",
   "execution_count": 31,
   "id": "119b7ad0",
   "metadata": {},
   "outputs": [
    {
     "data": {
      "text/plain": [
       "<__main__.TokenDataset_Mecab at 0x1f174af5c60>"
      ]
     },
     "execution_count": 31,
     "metadata": {},
     "output_type": "execute_result"
    }
   ],
   "source": [
    "train_data"
   ]
  },
  {
   "cell_type": "code",
   "execution_count": 32,
   "id": "249eb8ac",
   "metadata": {},
   "outputs": [
    {
     "data": {
      "text/plain": [
       "tensor([237, 158, 229, 107,  68, 158,  41, 242,  34,  86, 203, 146, 180,  91,\n",
       "         94, 146, 158, 191, 214,  61,  87,  61,  91,  91,  21,  49, 184, 173,\n",
       "        125,  62,  22, 182,  20,  55, 151, 214,  47, 125,  17,  33,  33,  12,\n",
       "         32, 103, 123,  52,  24, 207, 131, 212, 122,  39, 229,  35,  60, 225,\n",
       "        214, 178, 214,  87, 107, 103,  67, 229], device='cuda:0')"
      ]
     },
     "execution_count": 32,
     "metadata": {},
     "output_type": "execute_result"
    }
   ],
   "source": [
    "# 1개의 batch 꺼내기\n",
    "inputs, labels = next(iter(train_loader))\n",
    "\n",
    "# 데이터셋을 device 설정\n",
    "inputs = {k: v.to(device) for k, v in inputs.items()}\n",
    "labels.to(device)"
   ]
  },
  {
   "cell_type": "code",
   "execution_count": 33,
   "id": "2f1e6e76",
   "metadata": {},
   "outputs": [
    {
     "data": {
      "text/plain": [
       "dict_keys(['input_ids', 'attention_mask', 'token_type_ids'])"
      ]
     },
     "execution_count": 33,
     "metadata": {},
     "output_type": "execute_result"
    }
   ],
   "source": [
    "inputs.keys()"
   ]
  },
  {
   "cell_type": "code",
   "execution_count": 34,
   "id": "34ba3b73",
   "metadata": {},
   "outputs": [
    {
     "data": {
      "text/plain": [
       "(torch.Size([64, 60]),\n",
       " torch.Size([64, 60]),\n",
       " torch.Size([64, 60]),\n",
       " torch.Size([64]))"
      ]
     },
     "execution_count": 34,
     "metadata": {},
     "output_type": "execute_result"
    }
   ],
   "source": [
    "inputs['input_ids'].shape, inputs['attention_mask'].shape, inputs['token_type_ids'].shape, labels.shape"
   ]
  },
  {
   "cell_type": "code",
   "execution_count": 6,
   "id": "6ed685f4",
   "metadata": {},
   "outputs": [
    {
     "data": {
      "text/plain": [
       "BertConfig {\n",
       "  \"architectures\": [\n",
       "    \"BertForMaskedLM\"\n",
       "  ],\n",
       "  \"attention_probs_dropout_prob\": 0.1,\n",
       "  \"classifier_dropout\": null,\n",
       "  \"directionality\": \"bidi\",\n",
       "  \"embedding_size\": 768,\n",
       "  \"gradient_checkpointing\": false,\n",
       "  \"hidden_act\": \"gelu\",\n",
       "  \"hidden_dropout_prob\": 0.1,\n",
       "  \"hidden_size\": 768,\n",
       "  \"initializer_range\": 0.02,\n",
       "  \"intermediate_size\": 3072,\n",
       "  \"layer_norm_eps\": 1e-12,\n",
       "  \"max_position_embeddings\": 512,\n",
       "  \"model_type\": \"bert\",\n",
       "  \"num_attention_heads\": 12,\n",
       "  \"num_hidden_layers\": 12,\n",
       "  \"pad_token_id\": 0,\n",
       "  \"pooler_fc_size\": 768,\n",
       "  \"pooler_num_attention_heads\": 12,\n",
       "  \"pooler_num_fc_layers\": 3,\n",
       "  \"pooler_size_per_head\": 128,\n",
       "  \"pooler_type\": \"first_token_transform\",\n",
       "  \"position_embedding_type\": \"absolute\",\n",
       "  \"transformers_version\": \"4.51.3\",\n",
       "  \"type_vocab_size\": 2,\n",
       "  \"use_cache\": true,\n",
       "  \"vocab_size\": 42000\n",
       "}"
      ]
     },
     "execution_count": 6,
     "metadata": {},
     "output_type": "execute_result"
    }
   ],
   "source": [
    "config = BertConfig.from_pretrained('kykim/bert-kor-base')\n",
    "config"
   ]
  },
  {
   "cell_type": "code",
   "execution_count": 35,
   "id": "acec3dd3",
   "metadata": {},
   "outputs": [
    {
     "data": {
      "text/plain": [
       "tensor([237, 158, 229, 107,  68, 158,  41, 242,  34,  86, 203, 146, 180,  91,\n",
       "         94, 146, 158, 191, 214,  61,  87,  61,  91,  91,  21,  49, 184, 173,\n",
       "        125,  62,  22, 182,  20,  55, 151, 214,  47, 125,  17,  33,  33,  12,\n",
       "         32, 103, 123,  52,  24, 207, 131, 212, 122,  39, 229,  35,  60, 225,\n",
       "        214, 178, 214,  87, 107, 103,  67, 229])"
      ]
     },
     "execution_count": 35,
     "metadata": {},
     "output_type": "execute_result"
    }
   ],
   "source": [
    "labels"
   ]
  },
  {
   "cell_type": "code",
   "execution_count": 7,
   "id": "49a5ae44",
   "metadata": {},
   "outputs": [
    {
     "data": {
      "text/plain": [
       "BertModel(\n",
       "  (embeddings): BertEmbeddings(\n",
       "    (word_embeddings): Embedding(42000, 768, padding_idx=0)\n",
       "    (position_embeddings): Embedding(512, 768)\n",
       "    (token_type_embeddings): Embedding(2, 768)\n",
       "    (LayerNorm): LayerNorm((768,), eps=1e-12, elementwise_affine=True)\n",
       "    (dropout): Dropout(p=0.1, inplace=False)\n",
       "  )\n",
       "  (encoder): BertEncoder(\n",
       "    (layer): ModuleList(\n",
       "      (0-11): 12 x BertLayer(\n",
       "        (attention): BertAttention(\n",
       "          (self): BertSdpaSelfAttention(\n",
       "            (query): Linear(in_features=768, out_features=768, bias=True)\n",
       "            (key): Linear(in_features=768, out_features=768, bias=True)\n",
       "            (value): Linear(in_features=768, out_features=768, bias=True)\n",
       "            (dropout): Dropout(p=0.1, inplace=False)\n",
       "          )\n",
       "          (output): BertSelfOutput(\n",
       "            (dense): Linear(in_features=768, out_features=768, bias=True)\n",
       "            (LayerNorm): LayerNorm((768,), eps=1e-12, elementwise_affine=True)\n",
       "            (dropout): Dropout(p=0.1, inplace=False)\n",
       "          )\n",
       "        )\n",
       "        (intermediate): BertIntermediate(\n",
       "          (dense): Linear(in_features=768, out_features=3072, bias=True)\n",
       "          (intermediate_act_fn): GELUActivation()\n",
       "        )\n",
       "        (output): BertOutput(\n",
       "          (dense): Linear(in_features=3072, out_features=768, bias=True)\n",
       "          (LayerNorm): LayerNorm((768,), eps=1e-12, elementwise_affine=True)\n",
       "          (dropout): Dropout(p=0.1, inplace=False)\n",
       "        )\n",
       "      )\n",
       "    )\n",
       "  )\n",
       "  (pooler): BertPooler(\n",
       "    (dense): Linear(in_features=768, out_features=768, bias=True)\n",
       "    (activation): Tanh()\n",
       "  )\n",
       ")"
      ]
     },
     "execution_count": 7,
     "metadata": {},
     "output_type": "execute_result"
    }
   ],
   "source": [
    "model_bert = BertModel.from_pretrained('kykim/bert-kor-base').to(device)\n",
    "model_bert"
   ]
  },
  {
   "cell_type": "code",
   "execution_count": 28,
   "id": "1d6f00a0",
   "metadata": {},
   "outputs": [
    {
     "data": {
      "text/plain": [
       "odict_keys(['last_hidden_state', 'pooler_output'])"
      ]
     },
     "execution_count": 28,
     "metadata": {},
     "output_type": "execute_result"
    }
   ],
   "source": [
    "outputs = model_bert(**inputs)\n",
    "outputs.keys()"
   ]
  },
  {
   "cell_type": "code",
   "execution_count": 29,
   "id": "39f3e508",
   "metadata": {},
   "outputs": [
    {
     "data": {
      "text/plain": [
       "(torch.Size([64, 60, 768]), torch.Size([64, 768]))"
      ]
     },
     "execution_count": 29,
     "metadata": {},
     "output_type": "execute_result"
    }
   ],
   "source": [
    "outputs['last_hidden_state'].shape, outputs['pooler_output'].shape"
   ]
  },
  {
   "cell_type": "code",
   "execution_count": 30,
   "id": "d57015d8",
   "metadata": {},
   "outputs": [
    {
     "name": "stdout",
     "output_type": "stream",
     "text": [
      "torch.Size([64, 60, 768])\n",
      "tensor([[-0.4606, -1.0344, -1.2719,  ..., -0.3460, -0.2235,  0.0035],\n",
      "        [-0.5401, -0.3044,  0.4283,  ...,  0.0631,  0.2842,  1.4257],\n",
      "        [ 0.2831, -0.6885, -0.1150,  ...,  0.0238, -0.3128,  0.8434],\n",
      "        ...,\n",
      "        [ 0.3198, -0.3580,  0.5679,  ..., -0.6770, -0.0985,  0.4845],\n",
      "        [-0.2903, -0.6429,  0.2678,  ..., -0.1045,  0.1154,  0.7202],\n",
      "        [-0.0439, -0.6012,  0.2019,  ...,  0.1405, -0.1838,  0.8078]],\n",
      "       device='cuda:0', grad_fn=<SliceBackward0>)\n"
     ]
    }
   ],
   "source": [
    "last_hidden_state = outputs['last_hidden_state']\n",
    "print(last_hidden_state.shape)\n",
    "print(last_hidden_state[:, 0, :])"
   ]
  },
  {
   "cell_type": "code",
   "execution_count": 31,
   "id": "352afa68",
   "metadata": {},
   "outputs": [
    {
     "name": "stdout",
     "output_type": "stream",
     "text": [
      "torch.Size([64, 768])\n",
      "tensor([[ 0.2271, -0.0198, -0.9998,  ...,  0.6436,  0.6461,  0.7775],\n",
      "        [ 0.9827,  0.4934, -0.9986,  ...,  0.5567,  0.8611,  0.6830],\n",
      "        [ 0.9869,  0.1407, -0.9919,  ...,  0.8425,  0.9108,  0.3534],\n",
      "        ...,\n",
      "        [ 0.9181,  0.0185, -0.9979,  ...,  0.0028,  0.7621,  0.4888],\n",
      "        [ 0.9240,  0.4419, -0.9985,  ...,  0.4572,  0.8132,  0.6959],\n",
      "        [ 0.9377,  0.3259, -0.9560,  ...,  0.1770,  0.8478,  0.6417]],\n",
      "       device='cuda:0', grad_fn=<TanhBackward0>)\n"
     ]
    }
   ],
   "source": [
    "pooler_output = outputs['pooler_output']\n",
    "print(pooler_output.shape)\n",
    "print(pooler_output)"
   ]
  },
  {
   "cell_type": "code",
   "execution_count": 32,
   "id": "1a31e24d",
   "metadata": {},
   "outputs": [
    {
     "name": "stdout",
     "output_type": "stream",
     "text": [
      "torch.Size([64, 247])\n",
      "tensor([180, 180, 180, 180, 180,  76, 180, 180, 180, 180, 106, 180, 180,  76,\n",
      "         23, 180, 180, 180, 180, 180, 180, 206, 180, 180, 180, 180, 180, 180,\n",
      "        180,  32, 180, 180, 180, 180, 206, 180, 180, 180, 106, 180, 180, 180,\n",
      "        180, 180, 180, 180, 180, 180, 180, 180, 180, 180, 180, 180, 180, 180,\n",
      "        150, 180, 180, 180,  32, 180, 180, 180], device='cuda:0')\n"
     ]
    }
   ],
   "source": [
    "fc = nn.Linear(768, 247)\n",
    "fc.to(device)\n",
    "fc_output = fc(last_hidden_state[:, 0, :])\n",
    "print(fc_output.shape)\n",
    "print(fc_output.argmax(dim=1))"
   ]
  },
  {
   "cell_type": "code",
   "execution_count": 33,
   "id": "3fa4f2f5",
   "metadata": {},
   "outputs": [],
   "source": [
    "class CustomBertModel(nn.Module):\n",
    "    def __init__(self, bert_pretrained, dropout_rate=0.5):\n",
    "        # 부모클래스 초기화\n",
    "        super(CustomBertModel, self).__init__()\n",
    "        # 사전학습 모델 지정\n",
    "        self.bert = BertModel.from_pretrained(bert_pretrained)\n",
    "        # dropout 설정\n",
    "        self.dr = nn.Dropout(p=dropout_rate)\n",
    "        # 최종 출력층 정의\n",
    "        self.fc = nn.Linear(768, 247)\n",
    "    \n",
    "    def forward(self, input_ids, attention_mask, token_type_ids):\n",
    "        # 입력을 pre-trained bert model 로 대입\n",
    "        output = self.bert(input_ids=input_ids, attention_mask=attention_mask, token_type_ids=token_type_ids)\n",
    "        # 결과의 last_hidden_state 가져옴\n",
    "        last_hidden_state = output['last_hidden_state']\n",
    "        # last_hidden_state[:, 0, :]는 [CLS] 토큰을 가져옴\n",
    "        x = self.dr(last_hidden_state[:, 0, :])\n",
    "        # FC 을 거쳐 최종 출력\n",
    "        x = self.fc(x)\n",
    "        return x"
   ]
  },
  {
   "cell_type": "code",
   "execution_count": 6,
   "id": "f4e33075",
   "metadata": {},
   "outputs": [],
   "source": [
    "class ImprovedBertModel(nn.Module):\n",
    "    def __init__(self, bert_pretrained, num_classes=247, dropout_rate=0.3):\n",
    "        super(ImprovedBertModel, self).__init__()\n",
    "        self.bert = BertModel.from_pretrained(bert_pretrained)\n",
    "        \n",
    "        # 더 복잡한 분류기 추가\n",
    "        self.classifier = nn.Sequential(\n",
    "            nn.Linear(768, 512),\n",
    "            nn.ReLU(),\n",
    "            nn.Dropout(dropout_rate),\n",
    "            nn.Linear(512, 256),\n",
    "            nn.ReLU(),\n",
    "            nn.Dropout(dropout_rate),\n",
    "            nn.Linear(256, num_classes)\n",
    "        )\n",
    "    \n",
    "    def forward(self, input_ids, attention_mask, token_type_ids):\n",
    "        outputs = self.bert(input_ids=input_ids, attention_mask=attention_mask, token_type_ids=token_type_ids)\n",
    "        pooled_output = outputs['last_hidden_state'][:, 0, :]\n",
    "        logits = self.classifier(pooled_output)\n",
    "        return logits"
   ]
  },
  {
   "cell_type": "code",
   "execution_count": 36,
   "id": "2acf0126",
   "metadata": {},
   "outputs": [
    {
     "data": {
      "text/plain": [
       "ImprovedBertModel(\n",
       "  (bert): BertModel(\n",
       "    (embeddings): BertEmbeddings(\n",
       "      (word_embeddings): Embedding(42000, 768, padding_idx=0)\n",
       "      (position_embeddings): Embedding(512, 768)\n",
       "      (token_type_embeddings): Embedding(2, 768)\n",
       "      (LayerNorm): LayerNorm((768,), eps=1e-12, elementwise_affine=True)\n",
       "      (dropout): Dropout(p=0.1, inplace=False)\n",
       "    )\n",
       "    (encoder): BertEncoder(\n",
       "      (layer): ModuleList(\n",
       "        (0-11): 12 x BertLayer(\n",
       "          (attention): BertAttention(\n",
       "            (self): BertSdpaSelfAttention(\n",
       "              (query): Linear(in_features=768, out_features=768, bias=True)\n",
       "              (key): Linear(in_features=768, out_features=768, bias=True)\n",
       "              (value): Linear(in_features=768, out_features=768, bias=True)\n",
       "              (dropout): Dropout(p=0.1, inplace=False)\n",
       "            )\n",
       "            (output): BertSelfOutput(\n",
       "              (dense): Linear(in_features=768, out_features=768, bias=True)\n",
       "              (LayerNorm): LayerNorm((768,), eps=1e-12, elementwise_affine=True)\n",
       "              (dropout): Dropout(p=0.1, inplace=False)\n",
       "            )\n",
       "          )\n",
       "          (intermediate): BertIntermediate(\n",
       "            (dense): Linear(in_features=768, out_features=3072, bias=True)\n",
       "            (intermediate_act_fn): GELUActivation()\n",
       "          )\n",
       "          (output): BertOutput(\n",
       "            (dense): Linear(in_features=3072, out_features=768, bias=True)\n",
       "            (LayerNorm): LayerNorm((768,), eps=1e-12, elementwise_affine=True)\n",
       "            (dropout): Dropout(p=0.1, inplace=False)\n",
       "          )\n",
       "        )\n",
       "      )\n",
       "    )\n",
       "    (pooler): BertPooler(\n",
       "      (dense): Linear(in_features=768, out_features=768, bias=True)\n",
       "      (activation): Tanh()\n",
       "    )\n",
       "  )\n",
       "  (classifier): Sequential(\n",
       "    (0): Linear(in_features=768, out_features=512, bias=True)\n",
       "    (1): ReLU()\n",
       "    (2): Dropout(p=0.3, inplace=False)\n",
       "    (3): Linear(in_features=512, out_features=256, bias=True)\n",
       "    (4): ReLU()\n",
       "    (5): Dropout(p=0.3, inplace=False)\n",
       "    (6): Linear(in_features=256, out_features=247, bias=True)\n",
       "  )\n",
       ")"
      ]
     },
     "execution_count": 36,
     "metadata": {},
     "output_type": "execute_result"
    }
   ],
   "source": [
    "# bert = CustomBertModel('kykim/bert-kor-base')\n",
    "bert = ImprovedBertModel('kykim/bert-kor-base')\n",
    "bert.to(device)"
   ]
  },
  {
   "cell_type": "code",
   "execution_count": 37,
   "id": "bdde9d36",
   "metadata": {},
   "outputs": [],
   "source": [
    "# loss 정의: CrossEntropyLoss\n",
    "loss_fn = nn.CrossEntropyLoss()\n",
    "\n",
    "# 옵티마이저 정의: bert.paramters()와 learning_rate 설정\n",
    "optimizer = optim.Adam(bert.parameters(), lr=1e-5)"
   ]
  },
  {
   "cell_type": "code",
   "execution_count": 38,
   "id": "a1b4b26c",
   "metadata": {},
   "outputs": [],
   "source": [
    "def model_train(model, data_loader, loss_fn, optimizer, device):\n",
    "    # 모델을 훈련모드로 설정합니다. training mode 일 때 Gradient 가 업데이트 됩니다. 반드시 train()으로 모드 변경을 해야 합니다.\n",
    "    model.train()\n",
    "    \n",
    "    # loss와 accuracy 계산을 위한 임시 변수 입니다. 0으로 초기화합니다.\n",
    "    running_loss = 0\n",
    "    corr = 0\n",
    "    counts = 0\n",
    "    \n",
    "    # 예쁘게 Progress Bar를 출력하면서 훈련 상태를 모니터링 하기 위하여 tqdm으로 래핑합니다.\n",
    "    prograss_bar = tqdm(data_loader, unit='batch', total=len(data_loader), mininterval=1)\n",
    "    \n",
    "    # mini-batch 학습을 시작합니다.\n",
    "    for idx, (inputs, labels) in enumerate(prograss_bar):\n",
    "        # inputs, label 데이터를 device 에 올립니다. (cuda:0 혹은 cpu)\n",
    "        inputs = {k:v.to(device) for k, v in inputs.items()}\n",
    "        labels = labels.to(device)\n",
    "        \n",
    "        # 누적 Gradient를 초기화 합니다.\n",
    "        optimizer.zero_grad()\n",
    "        \n",
    "        # Forward Propagation을 진행하여 결과를 얻습니다.\n",
    "        output = model(**inputs)\n",
    "        \n",
    "        # 손실함수에 output, label 값을 대입하여 손실을 계산합니다.\n",
    "        loss = loss_fn(output, labels)\n",
    "        \n",
    "        # 오차역전파(Back Propagation)을 진행하여 미분 값을 계산합니다.\n",
    "        loss.backward()\n",
    "        \n",
    "        # 계산된 Gradient를 업데이트 합니다.\n",
    "        optimizer.step()\n",
    "        \n",
    "        # output의 max(dim=1)은 max probability와 max index를 반환합니다.\n",
    "        # max probability는 무시하고, max index는 pred에 저장하여 label 값과 대조하여 정확도를 도출합니다.\n",
    "        _, pred = output.max(dim=1)\n",
    "        \n",
    "        # pred.eq(lbl).sum() 은 정확히 맞춘 label의 합계를 계산합니다. item()은 tensor에서 값을 추출합니다.\n",
    "        # 합계는 corr 변수에 누적합니다.\n",
    "        corr += pred.eq(labels).sum().item()\n",
    "        counts += len(labels)\n",
    "        \n",
    "        # loss 값은 1개 배치의 평균 손실(loss) 입니다. img.size(0)은 배치사이즈(batch size) 입니다.\n",
    "        # loss 와 img.size(0)를 곱하면 1개 배치의 전체 loss가 계산됩니다.\n",
    "        # 이를 누적한 뒤 Epoch 종료시 전체 데이터셋의 개수로 나누어 평균 loss를 산출합니다.\n",
    "        running_loss += loss.item() * labels.size(0)\n",
    "        \n",
    "        # 프로그레스바에 학습 상황 업데이트\n",
    "        prograss_bar.set_description(f\"training loss: {running_loss/(idx+1):.5f}, training accuracy: {corr / counts:.5f}\")\n",
    "        \n",
    "    # 누적된 정답수를 전체 개수로 나누어 주면 정확도가 산출됩니다.\n",
    "    acc = corr / len(data_loader.dataset)\n",
    "    \n",
    "    # 평균 손실(loss)과 정확도를 반환합니다.\n",
    "    # train_loss, train_acc\n",
    "    return running_loss / len(data_loader.dataset), acc"
   ]
  },
  {
   "cell_type": "code",
   "execution_count": 39,
   "id": "5e7332ff",
   "metadata": {},
   "outputs": [],
   "source": [
    "def model_evaluate(model, data_loader, loss_fn, device):\n",
    "    # model.eval()은 모델을 평가모드로 설정을 바꾸어 줍니다. \n",
    "    # dropout과 같은 layer의 역할 변경을 위하여 evaluation 진행시 꼭 필요한 절차 입니다.\n",
    "    model.eval()\n",
    "    \n",
    "    # Gradient가 업데이트 되는 것을 방지 하기 위하여 반드시 필요합니다.\n",
    "    with torch.no_grad():\n",
    "        # loss와 accuracy 계산을 위한 임시 변수 입니다. 0으로 초기화합니다.\n",
    "        corr = 0\n",
    "        running_loss = 0\n",
    "        \n",
    "        # 배치별 evaluation을 진행합니다.\n",
    "        for inputs, labels in data_loader:\n",
    "            # inputs, label 데이터를 device 에 올립니다. (cuda:0 혹은 cpu)\n",
    "            inputs = {k:v.to(device) for k, v in inputs.items()}\n",
    "            labels = labels.to(device)\n",
    "            \n",
    "            # 모델에 Forward Propagation을 하여 결과를 도출합니다.\n",
    "            output = model(**inputs)\n",
    "            \n",
    "            # output의 max(dim=1)은 max probability와 max index를 반환합니다.\n",
    "            # max probability는 무시하고, max index는 pred에 저장하여 label 값과 대조하여 정확도를 도출합니다.\n",
    "            _, pred = output.max(dim=1)\n",
    "            \n",
    "            # pred.eq(lbl).sum() 은 정확히 맞춘 label의 합계를 계산합니다. item()은 tensor에서 값을 추출합니다.\n",
    "            # 합계는 corr 변수에 누적합니다.\n",
    "            corr += torch.sum(pred.eq(labels)).item()\n",
    "            \n",
    "            # loss 값은 1개 배치의 평균 손실(loss) 입니다. img.size(0)은 배치사이즈(batch size) 입니다.\n",
    "            # loss 와 img.size(0)를 곱하면 1개 배치의 전체 loss가 계산됩니다.\n",
    "            # 이를 누적한 뒤 Epoch 종료시 전체 데이터셋의 개수로 나누어 평균 loss를 산출합니다.\n",
    "            running_loss += loss_fn(output, labels).item() * labels.size(0)\n",
    "        \n",
    "        # validation 정확도를 계산합니다.\n",
    "        # 누적한 정답숫자를 전체 데이터셋의 숫자로 나누어 최종 accuracy를 산출합니다.\n",
    "        acc = corr / len(data_loader.dataset)\n",
    "        \n",
    "        # 결과를 반환합니다.\n",
    "        # val_loss, val_acc\n",
    "        return running_loss / len(data_loader.dataset), acc"
   ]
  },
  {
   "cell_type": "code",
   "execution_count": null,
   "id": "112a20ee",
   "metadata": {},
   "outputs": [
    {
     "name": "stderr",
     "output_type": "stream",
     "text": [
      "  0%|          | 0/11366 [00:00<?, ?batch/s]"
     ]
    }
   ],
   "source": [
    "# checkpoint로 저장할 모델의 이름을 정의\n",
    "model_name = 'bert-kor-mecab_all'\n",
    "time_date = '2505071730'\n",
    "save_path  = f'./saved_model/{model_name}{time_date}'\n",
    "os.makedirs(save_path, exist_ok=True)\n",
    "\n",
    "num_epochs = 10\n",
    "min_loss = np.inf\n",
    "\n",
    "history = {\n",
    "    'train_loss': [],\n",
    "    'train_acc': [],\n",
    "    'val_loss': [],\n",
    "    'val_acc': []\n",
    "}\n",
    "\n",
    "# Epoch 별 훈련 및 검증을 수행합니다.\n",
    "for epoch in range(num_epochs):\n",
    "    # Model Training\n",
    "    # 훈련 손실과 정확도를 반환 받습니다.\n",
    "    train_loss, train_acc = model_train(bert, train_loader, loss_fn, optimizer, device)\n",
    "\n",
    "    # 검증 손실과 검증 정확도를 반환 받습니다.\n",
    "    val_loss, val_acc = model_evaluate(bert, test_loader, loss_fn, device)\n",
    "\n",
    "    history['train_loss'].append(train_loss)\n",
    "    history['train_acc'].append(train_acc)\n",
    "    history['val_loss'].append(val_loss)\n",
    "    history['val_acc'].append(val_acc)\n",
    "    \n",
    "    # val_loss 가 개선되었다면 min_loss를 갱신하고 model의 가중치(weights)를 저장합니다.\n",
    "    if val_loss < min_loss:\n",
    "        print(f'[INFO] val_loss has been improved from {min_loss:.5f} to {val_loss:.5f}. Saving Model!')\n",
    "        min_loss = val_loss\n",
    "        torch.save(bert.state_dict(), os.path.join(save_path, f'{model_name}{time_date}.pth'))\n",
    "    \n",
    "    # Epoch 별 결과를 출력합니다.\n",
    "    print(f'epoch {epoch+1:02d}, loss: {train_loss:.5f}, acc: {train_acc:.5f}, val_loss: {val_loss:.5f}, val_accuracy: {val_acc:.5f}')\n",
    "\n",
    "# 학습 기록 저장\n",
    "pickle.dump(history, open(os.path.join(save_path, f'{model_name}{time_date}_history.pkl'), 'wb'))"
   ]
  },
  {
   "cell_type": "code",
   "execution_count": 33,
   "id": "3468489d",
   "metadata": {},
   "outputs": [
    {
     "data": {
      "text/plain": [
       "<All keys matched successfully>"
      ]
     },
     "execution_count": 33,
     "metadata": {},
     "output_type": "execute_result"
    }
   ],
   "source": [
    "bert.load_state_dict(torch.load(f'{model_name}.pth'))"
   ]
  },
  {
   "cell_type": "code",
   "execution_count": null,
   "id": "97516283",
   "metadata": {},
   "outputs": [],
   "source": [
    "# 모델 가중치 저장\n",
    "torch.save(bert.state_dict(), './saved_model/bert-kor-base2505042240.pth')\n",
    "\n",
    "# 모델 구성 저장\n",
    "with open('./saved_model/bert-kor-base2505042240/bert-kor-base2505042240_config.json', 'w') as f:\n",
    "    f.write(config.to_json_string())"
   ]
  },
  {
   "cell_type": "code",
   "execution_count": 20,
   "id": "069a97d2",
   "metadata": {},
   "outputs": [
    {
     "data": {
      "text/plain": [
       "ImprovedBertModel(\n",
       "  (bert): BertModel(\n",
       "    (embeddings): BertEmbeddings(\n",
       "      (word_embeddings): Embedding(42000, 768, padding_idx=0)\n",
       "      (position_embeddings): Embedding(512, 768)\n",
       "      (token_type_embeddings): Embedding(2, 768)\n",
       "      (LayerNorm): LayerNorm((768,), eps=1e-12, elementwise_affine=True)\n",
       "      (dropout): Dropout(p=0.1, inplace=False)\n",
       "    )\n",
       "    (encoder): BertEncoder(\n",
       "      (layer): ModuleList(\n",
       "        (0-11): 12 x BertLayer(\n",
       "          (attention): BertAttention(\n",
       "            (self): BertSdpaSelfAttention(\n",
       "              (query): Linear(in_features=768, out_features=768, bias=True)\n",
       "              (key): Linear(in_features=768, out_features=768, bias=True)\n",
       "              (value): Linear(in_features=768, out_features=768, bias=True)\n",
       "              (dropout): Dropout(p=0.1, inplace=False)\n",
       "            )\n",
       "            (output): BertSelfOutput(\n",
       "              (dense): Linear(in_features=768, out_features=768, bias=True)\n",
       "              (LayerNorm): LayerNorm((768,), eps=1e-12, elementwise_affine=True)\n",
       "              (dropout): Dropout(p=0.1, inplace=False)\n",
       "            )\n",
       "          )\n",
       "          (intermediate): BertIntermediate(\n",
       "            (dense): Linear(in_features=768, out_features=3072, bias=True)\n",
       "            (intermediate_act_fn): GELUActivation()\n",
       "          )\n",
       "          (output): BertOutput(\n",
       "            (dense): Linear(in_features=3072, out_features=768, bias=True)\n",
       "            (LayerNorm): LayerNorm((768,), eps=1e-12, elementwise_affine=True)\n",
       "            (dropout): Dropout(p=0.1, inplace=False)\n",
       "          )\n",
       "        )\n",
       "      )\n",
       "    )\n",
       "    (pooler): BertPooler(\n",
       "      (dense): Linear(in_features=768, out_features=768, bias=True)\n",
       "      (activation): Tanh()\n",
       "    )\n",
       "  )\n",
       "  (classifier): Sequential(\n",
       "    (0): Linear(in_features=768, out_features=512, bias=True)\n",
       "    (1): ReLU()\n",
       "    (2): Dropout(p=0.3, inplace=False)\n",
       "    (3): Linear(in_features=512, out_features=256, bias=True)\n",
       "    (4): ReLU()\n",
       "    (5): Dropout(p=0.3, inplace=False)\n",
       "    (6): Linear(in_features=256, out_features=247, bias=True)\n",
       "  )\n",
       ")"
      ]
     },
     "execution_count": 20,
     "metadata": {},
     "output_type": "execute_result"
    }
   ],
   "source": [
    "bert = ImprovedBertModel('kykim/bert-kor-base')\n",
    "bert.load_state_dict(torch.load('./saved_model/bert-kor-mecab_all_2505071730/bert-kor-mecab_all_2505071730.pth'))\n",
    "bert.to(device)\n",
    "bert.eval() # 평가모드"
   ]
  },
  {
   "cell_type": "code",
   "execution_count": 21,
   "id": "837e9e33",
   "metadata": {},
   "outputs": [
    {
     "data": {
      "text/plain": [
       "{'0': 'PC방',\n",
       " '1': '가구',\n",
       " '2': '가발',\n",
       " '3': '가방',\n",
       " '4': '가스 충전소',\n",
       " '5': '가전제품',\n",
       " '6': '가전제품 수리',\n",
       " '7': '가정용 연료',\n",
       " '8': '가죽/가방/신발 수선',\n",
       " '9': '가축 사료',\n",
       " '10': '간이 음식점(기타)',\n",
       " '11': '개인/가정용품 수리(기타)',\n",
       " '12': '건강보조식품',\n",
       " '13': '건물 및 토목 엔지니어링 서비스',\n",
       " '14': '건설/건축자재',\n",
       " '15': '건설기계/장비 대여업',\n",
       " '16': '건어물/젓갈',\n",
       " '17': '건축 설계 및 관련 서비스',\n",
       " '18': '건축물 일반 청소',\n",
       " '19': '결혼 상담 서비스',\n",
       " '20': '경양식',\n",
       " '21': '경영 컨설팅',\n",
       " '22': '고용 알선업',\n",
       " '23': '곡물/곡분',\n",
       " '24': '골프 연습장',\n",
       " '25': '곱창 전골/구이',\n",
       " '26': '공인노무사',\n",
       " '27': '공인회계사',\n",
       " '28': '광고 대행',\n",
       " '29': '광고 매체 판매',\n",
       " '30': '광고물 설계/제작업',\n",
       " '31': '교육기관(기타)',\n",
       " '32': '교육컨설팅',\n",
       " '33': '구내식당',\n",
       " '34': '국/탕/찌개류',\n",
       " '35': '국수/칼국수',\n",
       " '36': '기념품점',\n",
       " '37': '기숙사/고시원',\n",
       " '38': '기타 개인/가정용품 대여업',\n",
       " '39': '기타 건설/건축자재',\n",
       " '40': '기타 광고 관련 서비스',\n",
       " '41': '기타 교육지원 서비스',\n",
       " '42': '기타 기술/직업 훈련학원',\n",
       " '43': '기타 동남아식 전문',\n",
       " '44': '기타 법무관련 서비스',\n",
       " '45': '기타 사무 지원 서비스',\n",
       " '46': '기타 산업용 기계/장비 대여업',\n",
       " '47': '기타 서양식 음식점',\n",
       " '48': '기타 스포츠시설 운영업',\n",
       " '49': '기타 엔지니어링 서비스',\n",
       " '50': '기타 여행 보조/예약 서비스',\n",
       " '51': '기타 예술/스포츠 교육기관',\n",
       " '52': '기타 오락관련 서비스',\n",
       " '53': '기타 오락장',\n",
       " '54': '기타 운송장비 대여업',\n",
       " '55': '기타 의류',\n",
       " '56': '기타 의원',\n",
       " '57': '기타 일식 음식점',\n",
       " '58': '기타 한식 음식점',\n",
       " '59': '기타 회계 관련 서비스',\n",
       " '60': '김밥/만두/분식',\n",
       " '61': '꽃집',\n",
       " '62': '낚시터 운영업',\n",
       " '63': '남성 의류',\n",
       " '64': '내과/소아과 의원',\n",
       " '65': '냉면/밀면',\n",
       " '66': '네일숍',\n",
       " '67': '노래방',\n",
       " '68': '닭/오리고기 구이/찜',\n",
       " '69': '담배/전자담배',\n",
       " '70': '당구장',\n",
       " '71': '도시 계획 및 조경 설계 서비스',\n",
       " '72': '독서실/스터디 카페',\n",
       " '73': '동물병원',\n",
       " '74': '돼지고기 구이/찜',\n",
       " '75': '떡/한과',\n",
       " '76': '레크리에이션 교육기관',\n",
       " '77': '마라탕/훠궈',\n",
       " '78': '마사지/안마',\n",
       " '79': '만화방',\n",
       " '80': '명함/간판/광고물 제작',\n",
       " '81': '모터사이클 및 부품',\n",
       " '82': '모터사이클 수리',\n",
       " '83': '목욕탕/사우나',\n",
       " '84': '무도 유흥 주점',\n",
       " '85': '문구/회화용품',\n",
       " '86': '미술학원',\n",
       " '87': '미용실',\n",
       " '88': '바둑/장기/체스 경기 운영업',\n",
       " '89': '반찬/식료품',\n",
       " '90': '방사선 진단/병리 검사 의원',\n",
       " '91': '백반/한정식',\n",
       " '92': '버거',\n",
       " '93': '번역/통역 서비스',\n",
       " '94': '법무사',\n",
       " '95': '베트남식 전문',\n",
       " '96': '벽지/장판/마루',\n",
       " '97': '변리사',\n",
       " '98': '변호사',\n",
       " '99': '복 요리 전문',\n",
       " '100': '복권 발행/판매',\n",
       " '101': '복사업',\n",
       " '102': '볼링장',\n",
       " '103': '부동산 중개/대리',\n",
       " '104': '분류 안된 외국식 음식점',\n",
       " '105': '뷔페',\n",
       " '106': '비디오방',\n",
       " '107': '빵/도넛',\n",
       " '108': '사무기기',\n",
       " '109': '사업/무형 재산권 중개',\n",
       " '110': '사업시설 유지·관리 서비스',\n",
       " '111': '사진기/기타 광학기기',\n",
       " '112': '사진촬영업',\n",
       " '113': '사회교육시설',\n",
       " '114': '산부인과 의원',\n",
       " '115': '산업설비; 운송장비 및 공공장소 청소',\n",
       " '116': '상용 인력 공급 및 인사관리 서비스',\n",
       " '117': '상품 전문 (기타)',\n",
       " '118': '생맥주 전문',\n",
       " '119': '생수/음료',\n",
       " '120': '서점',\n",
       " '121': '성형외과 의원',\n",
       " '122': '세무사',\n",
       " '123': '세탁소',\n",
       " '124': '셀프 빨래방',\n",
       " '125': '소고기 구이/찜',\n",
       " '126': '소독; 구충 및 방제 서비스',\n",
       " '127': '수산물',\n",
       " '128': '수상/해양 레저업',\n",
       " '129': '수영장',\n",
       " '130': '숙박업(기타)',\n",
       " '131': '슈퍼마켓',\n",
       " '132': '스쿼시/라켓볼장',\n",
       " '133': '스포츠/레크리에이션 용품 대여업',\n",
       " '134': '시각 디자인업',\n",
       " '135': '시계/귀금속',\n",
       " '136': '시계/귀금속/악기 수리',\n",
       " '137': '시장 조사 및 여론 조사업',\n",
       " '138': '신경/정신과 의원',\n",
       " '139': '신발',\n",
       " '140': '실/섬유제품',\n",
       " '141': '아이스크림 할인점',\n",
       " '142': '아이스크림/빙수',\n",
       " '143': '악기',\n",
       " '144': '안경렌즈',\n",
       " '145': '안과 의원',\n",
       " '146': '애완동물/애완용품',\n",
       " '147': '액세서리/잡화',\n",
       " '148': '약국',\n",
       " '149': '얼음',\n",
       " '150': '여관/모텔',\n",
       " '151': '여성 의류',\n",
       " '152': '여행사',\n",
       " '153': '예술품',\n",
       " '154': '예식장업',\n",
       " '155': '옥외/전시 광고 대행',\n",
       " '156': '외과 의원',\n",
       " '157': '외국어학원',\n",
       " '158': '요가/필라테스 학원',\n",
       " '159': '요리 주점',\n",
       " '160': '요양병원',\n",
       " '161': '우유',\n",
       " '162': '운동용품',\n",
       " '163': '운전학원',\n",
       " '164': '유사 의료업',\n",
       " '165': '유아용 의류',\n",
       " '166': '음반/비디오물',\n",
       " '167': '음반/비디오물 대여업',\n",
       " '168': '음악학원',\n",
       " '169': '의료기기',\n",
       " '170': '의류 대여업',\n",
       " '171': '의류/이불 수선',\n",
       " '172': '이비인후과 의원',\n",
       " '173': '인테리어 디자인업',\n",
       " '174': '일반 유흥 주점',\n",
       " '175': '일반병원',\n",
       " '176': '일식 면 요리',\n",
       " '177': '일식 카레/돈가스/덮밥',\n",
       " '178': '일식 회/초밥',\n",
       " '179': '임시/일용 인력 공급업',\n",
       " '180': '입시·교과학원',\n",
       " '181': '자동차 대여업',\n",
       " '182': '자동차 부품',\n",
       " '183': '자동차 세차장',\n",
       " '184': '자동차 정비소',\n",
       " '185': '자전거',\n",
       " '186': '장난감',\n",
       " '187': '장례식장',\n",
       " '188': '전/부침개',\n",
       " '189': '전기용품/조명장치',\n",
       " '190': '전문자격/고시학원',\n",
       " '191': '전시/컨벤션/행사 대행 서비스',\n",
       " '192': '전자 게임장',\n",
       " '193': '정육점',\n",
       " '194': '제품 디자인업',\n",
       " '195': '조경 유지·관리 서비스',\n",
       " '196': '족발/보쌈',\n",
       " '197': '종합 (기타)',\n",
       " '198': '종합 스포츠시설',\n",
       " '199': '종합병원',\n",
       " '200': '주류',\n",
       " '201': '주방/가정용품',\n",
       " '202': '주유소',\n",
       " '203': '중고 상품',\n",
       " '204': '중국집',\n",
       " '205': '직원 훈련기관',\n",
       " '206': '채소/과일',\n",
       " '207': '철물/공구',\n",
       " '208': '청소년 수련시설',\n",
       " '209': '체형/비만 관리',\n",
       " '210': '치과병원',\n",
       " '211': '치과의원',\n",
       " '212': '치킨',\n",
       " '213': '침구류/커튼',\n",
       " '214': '카페',\n",
       " '215': '캠핑/글램핑',\n",
       " '216': '컴퓨터 학원',\n",
       " '217': '컴퓨터/노트북/프린터 수리',\n",
       " '218': '컴퓨터/사무기기 대여업',\n",
       " '219': '컴퓨터/소프트웨어',\n",
       " '220': '타이어',\n",
       " '221': '탁구장',\n",
       " '222': '태권도/무술학원',\n",
       " '223': '테니스장',\n",
       " '224': '토스트/샌드위치/샐러드',\n",
       " '225': '파스타/스테이크',\n",
       " '226': '패밀리레스토랑',\n",
       " '227': '패션/섬유/기타 전문 디자인업',\n",
       " '228': '펜션',\n",
       " '229': '편의점',\n",
       " '230': '포장/충전업',\n",
       " '231': '피부 관리실',\n",
       " '232': '피부/비뇨기과 의원',\n",
       " '233': '피자',\n",
       " '234': '한방병원',\n",
       " '235': '한복',\n",
       " '236': '한의원',\n",
       " '237': '해산물 구이/찜',\n",
       " '238': '핸드폰',\n",
       " '239': '핸드폰/통신장비 수리',\n",
       " '240': '행정사',\n",
       " '241': '헬스장',\n",
       " '242': '호텔/리조트',\n",
       " '243': '화장터/묘지/납골당',\n",
       " '244': '화장품',\n",
       " '245': '환경 관련 엔지니어링 서비스',\n",
       " '246': '횟집'}"
      ]
     },
     "execution_count": 21,
     "metadata": {},
     "output_type": "execute_result"
    }
   ],
   "source": [
    "tokenizer = BertTokenizerFast.from_pretrained('kykim/bert-kor-base')\n",
    "labels = pickle.load(open('./processed_data/category_mapping.pkl', 'rb'))\n",
    "labels = {v: k for k, v in labels.items()}\n",
    "labels"
   ]
  },
  {
   "cell_type": "code",
   "execution_count": 22,
   "id": "f09a12c2",
   "metadata": {},
   "outputs": [],
   "source": [
    "class CustomPredictor():\n",
    "    def __init__(self, model, tokenizer, labels: dict):\n",
    "        self.model = model\n",
    "        self.tokenizer = tokenizer\n",
    "        self.labels = labels\n",
    "        \n",
    "    def predict(self, sentence):\n",
    "        # 토큰화 처리\n",
    "        tokens = self.tokenizer(\n",
    "            str(sentence),                # 1개 문장 \n",
    "            return_tensors='pt',     # 텐서로 반환\n",
    "            truncation=True,         # 잘라내기 적용\n",
    "            padding='max_length',    # 패딩 적용\n",
    "            max_length=60,          # 최대 길이 60\n",
    "            add_special_tokens=True  # 스페셜 토큰 적용\n",
    "        )\n",
    "        tokens.to(device)\n",
    "        prediction = self.model(**tokens)\n",
    "        prediction = F.softmax(prediction, dim=1)\n",
    "        output = prediction.argmax(dim=1).item()\n",
    "        prob = prediction.max(dim=1)[0].item() * 100\n",
    "        result = self.labels[str(output)]\n",
    "        return result, prob"
   ]
  },
  {
   "cell_type": "code",
   "execution_count": 23,
   "id": "0decabac",
   "metadata": {},
   "outputs": [
    {
     "name": "stdout",
     "output_type": "stream",
     "text": [
      "캐치캐치아이스 -> 광고 대행 (16.63%)\n",
      "아엠 -> 여성 의류 (10.98%)\n",
      "새틴 -> 경영 컨설팅 (6.80%)\n",
      "네일즈247 -> 네일숍 (98.66%)\n",
      "커피랑도서관대구본동점 -> 카페 (69.94%)\n",
      "꿈꾸는요리사 -> 기타 기술/직업 훈련학원 (30.25%)\n",
      "메타교육 -> 입시·교과학원 (57.72%)\n",
      "나선재 -> 경영 컨설팅 (29.49%)\n",
      "평화이앤씨주 -> 건물 및 토목 엔지니어링 서비스 (12.41%)\n",
      "약령 -> 건강보조식품 (53.39%)\n",
      "스타벅스R리저브강남속편한치과건너편점 ('카페', 94.3593680858612)\n"
     ]
    }
   ],
   "source": [
    "predictor = CustomPredictor(bert, tokenizer, labels)\n",
    "\n",
    "for i in range(10):\n",
    "    query = test_df.iloc[i]['store']\n",
    "    pred, acc = predictor.predict(query)\n",
    "    print(f'{query} -> {pred} ({acc:.2f}%)')\n",
    "query = \"스타벅스R리저브강남속편한치과건너편점\"\n",
    "pred = predictor.predict(query)\n",
    "print(query, pred)"
   ]
  },
  {
   "cell_type": "code",
   "execution_count": 26,
   "id": "663c68b1",
   "metadata": {},
   "outputs": [
    {
     "name": "stderr",
     "output_type": "stream",
     "text": [
      "100%|██████████| 1421/1421 [16:36<00:00,  1.43it/s]\n"
     ]
    }
   ],
   "source": [
    "def batch_predict(model, dataloader, labels_dict, device):\n",
    "    \"\"\"배치 단위로 예측 수행\"\"\"\n",
    "    model.eval()\n",
    "    results = []\n",
    "    \n",
    "    with torch.no_grad():\n",
    "        for inputs, labels in tqdm(dataloader):\n",
    "            # 디바이스로 데이터 이동\n",
    "            inputs = {k: v.to(device) for k, v in inputs.items()}\n",
    "            labels = labels.to(device)\n",
    "            \n",
    "            # 예측 수행\n",
    "            outputs = model(**inputs)\n",
    "            probs = F.softmax(outputs, dim=1)\n",
    "            preds = torch.argmax(probs, dim=1)\n",
    "            confidence = torch.max(probs, dim=1)[0]\n",
    "            \n",
    "            # 결과 저장\n",
    "            for i in range(len(labels)):\n",
    "                pred_class = labels_dict[str(preds[i].item())]\n",
    "                true_class = labels_dict[str(labels[i].item())]\n",
    "                results.append({\n",
    "                    'query': test_df.iloc[i]['store'],\n",
    "                    'pred': pred_class,\n",
    "                    'label': true_class,\n",
    "                    'prob': f'{confidence[i].item()*100:.2f}%'\n",
    "                })\n",
    "    \n",
    "    return pd.DataFrame(results)\n",
    "\n",
    "# 평가용 데이터로더 설정 (배치 크기 증가)\n",
    "test_loader = DataLoader(test_data, batch_size=256, shuffle=False, num_workers=0)\n",
    "\n",
    "# 배치 예측 실행\n",
    "test_query_df = batch_predict(bert, test_loader, labels, device)"
   ]
  },
  {
   "cell_type": "code",
   "execution_count": 27,
   "id": "9b2252ca",
   "metadata": {},
   "outputs": [
    {
     "data": {
      "application/vnd.microsoft.datawrangler.viewer.v0+json": {
       "columns": [
        {
         "name": "index",
         "rawType": "int64",
         "type": "integer"
        },
        {
         "name": "query",
         "rawType": "object",
         "type": "string"
        },
        {
         "name": "pred",
         "rawType": "object",
         "type": "string"
        },
        {
         "name": "label",
         "rawType": "object",
         "type": "string"
        },
        {
         "name": "prob",
         "rawType": "object",
         "type": "string"
        }
       ],
       "conversionMethod": "pd.DataFrame",
       "ref": "d97db5b7-1dfe-49a8-bd1f-14e144408ccc",
       "rows": [
        [
         "0",
         "캐치캐치아이스",
         "슈퍼마켓",
         "슈퍼마켓",
         "37.68%"
        ],
        [
         "1",
         "아엠",
         "여성 의류",
         "명함/간판/광고물 제작",
         "16.42%"
        ],
        [
         "2",
         "새틴",
         "백반/한정식",
         "여관/모텔",
         "9.23%"
        ],
        [
         "3",
         "네일즈247",
         "네일숍",
         "네일숍",
         "97.87%"
        ],
        [
         "4",
         "커피랑도서관대구본동점",
         "독서실/스터디 카페",
         "독서실/스터디 카페",
         "99.90%"
        ],
        [
         "5",
         "꿈꾸는요리사",
         "펜션",
         "빵/도넛",
         "7.46%"
        ],
        [
         "6",
         "메타교육",
         "입시·교과학원",
         "요가/필라테스 학원",
         "59.08%"
        ],
        [
         "7",
         "나선재",
         "백반/한정식",
         "펜션",
         "6.79%"
        ],
        [
         "8",
         "평화이앤씨주",
         "건물 및 토목 엔지니어링 서비스",
         "건축 설계 및 관련 서비스",
         "44.93%"
        ],
        [
         "9",
         "약령",
         "백반/한정식",
         "경양식",
         "9.23%"
        ],
        [
         "10",
         "달콤왕가탕후루화도점",
         "간이 음식점(기타)",
         "간이 음식점(기타)",
         "88.17%"
        ],
        [
         "11",
         "웅진NS",
         "슈퍼마켓",
         "서점",
         "3.88%"
        ],
        [
         "12",
         "삼춘종합집수리",
         "철물/공구",
         "인테리어 디자인업",
         "54.48%"
        ],
        [
         "13",
         "예술창작소숲",
         "전시/컨벤션/행사 대행 서비스",
         "예술품",
         "19.83%"
        ],
        [
         "14",
         "인천밧데리",
         "백반/한정식",
         "자동차 부품",
         "3.21%"
        ],
        [
         "15",
         "망치공장",
         "철물/공구",
         "경양식",
         "45.51%"
        ],
        [
         "16",
         "그랜드점핑",
         "여관/모텔",
         "요가/필라테스 학원",
         "11.27%"
        ],
        [
         "17",
         "N K케미칼",
         "상품 전문 (기타)",
         "자동차 부품",
         "19.74%"
        ],
        [
         "18",
         "루디아크린",
         "변호사",
         "세탁소",
         "13.26%"
        ],
        [
         "19",
         "시그니아독일보청기문경센터",
         "의료기기",
         "의료기기",
         "99.33%"
        ],
        [
         "20",
         "벨라시타약국",
         "약국",
         "약국",
         "98.55%"
        ],
        [
         "21",
         "헌옷방문수거헌옷청년",
         "중고 상품",
         "중고 상품",
         "95.68%"
        ],
        [
         "22",
         "에이스야채과일",
         "채소/과일",
         "채소/과일",
         "98.33%"
        ],
        [
         "23",
         "한빛아트조명",
         "전기용품/조명장치",
         "전기용품/조명장치",
         "97.09%"
        ],
        [
         "24",
         "쌍방울총판",
         "백반/한정식",
         "기타 의류",
         "6.01%"
        ],
        [
         "25",
         "한솔건축",
         "건축 설계 및 관련 서비스",
         "부동산 중개/대리",
         "62.51%"
        ],
        [
         "26",
         "클럽밸런스5장유",
         "의료기기",
         "의료기기",
         "89.33%"
        ],
        [
         "27",
         "스피드썬팅",
         "자동차 정비소",
         "자동차 정비소",
         "76.34%"
        ],
        [
         "28",
         "우도마을협동조합",
         "백반/한정식",
         "슈퍼마켓",
         "8.42%"
        ],
        [
         "29",
         "대신양대창",
         "중국집",
         "곱창 전골/구이",
         "95.57%"
        ],
        [
         "30",
         "누림건강관리실스킨 바디",
         "피부 관리실",
         "피부 관리실",
         "80.84%"
        ],
        [
         "31",
         "신성마린",
         "운동용품",
         "가축 사료",
         "22.11%"
        ],
        [
         "32",
         "뚜쥬루과자점",
         "아이스크림/빙수",
         "빵/도넛",
         "86.47%"
        ],
        [
         "33",
         "지리산흑돼지고수",
         "돼지고기 구이/찜",
         "돼지고기 구이/찜",
         "97.81%"
        ],
        [
         "34",
         "연우축산",
         "정육점",
         "정육점",
         "98.73%"
        ],
        [
         "35",
         "솔샘탁구이야기",
         "테니스장",
         "테니스장",
         "91.05%"
        ],
        [
         "36",
         "칠성건어물안주",
         "백반/한정식",
         "건어물/젓갈",
         "6.70%"
        ],
        [
         "37",
         "엠케이비젼",
         "백반/한정식",
         "경영 컨설팅",
         "6.01%"
        ],
        [
         "38",
         "B S토탈",
         "기타 의류",
         "액세서리/잡화",
         "11.47%"
        ],
        [
         "39",
         "다움뷰티앤브로우",
         "피부 관리실",
         "화장품",
         "67.48%"
        ],
        [
         "40",
         "쿼드커피복대어울림점",
         "카페",
         "카페",
         "99.90%"
        ],
        [
         "41",
         "하잇테코이",
         "카페",
         "요리 주점",
         "22.33%"
        ],
        [
         "42",
         "품육참숯소갈비살",
         "돼지고기 구이/찜",
         "돼지고기 구이/찜",
         "73.87%"
        ],
        [
         "43",
         "오월분식",
         "김밥/만두/분식",
         "김밥/만두/분식",
         "98.61%"
        ],
        [
         "44",
         "숲아래잠",
         "펜션",
         "펜션",
         "76.06%"
        ],
        [
         "45",
         "웰던부동산중개사무소",
         "부동산 중개/대리",
         "부동산 중개/대리",
         "99.95%"
        ],
        [
         "46",
         "총각호프",
         "백반/한정식",
         "요리 주점",
         "13.97%"
        ],
        [
         "47",
         "엠브이",
         "경영 컨설팅",
         "경영 컨설팅",
         "8.36%"
        ],
        [
         "48",
         "강호엔지니어링건축사사무소주",
         "건축 설계 및 관련 서비스",
         "환경 관련 엔지니어링 서비스",
         "91.63%"
        ],
        [
         "49",
         "제이린스튜디오",
         "사진촬영업",
         "사진촬영업",
         "69.83%"
        ]
       ],
       "shape": {
        "columns": 4,
        "rows": 363698
       }
      },
      "text/html": [
       "<div>\n",
       "<style scoped>\n",
       "    .dataframe tbody tr th:only-of-type {\n",
       "        vertical-align: middle;\n",
       "    }\n",
       "\n",
       "    .dataframe tbody tr th {\n",
       "        vertical-align: top;\n",
       "    }\n",
       "\n",
       "    .dataframe thead th {\n",
       "        text-align: right;\n",
       "    }\n",
       "</style>\n",
       "<table border=\"1\" class=\"dataframe\">\n",
       "  <thead>\n",
       "    <tr style=\"text-align: right;\">\n",
       "      <th></th>\n",
       "      <th>query</th>\n",
       "      <th>pred</th>\n",
       "      <th>label</th>\n",
       "      <th>prob</th>\n",
       "    </tr>\n",
       "  </thead>\n",
       "  <tbody>\n",
       "    <tr>\n",
       "      <th>0</th>\n",
       "      <td>캐치캐치아이스</td>\n",
       "      <td>슈퍼마켓</td>\n",
       "      <td>슈퍼마켓</td>\n",
       "      <td>37.68%</td>\n",
       "    </tr>\n",
       "    <tr>\n",
       "      <th>1</th>\n",
       "      <td>아엠</td>\n",
       "      <td>여성 의류</td>\n",
       "      <td>명함/간판/광고물 제작</td>\n",
       "      <td>16.42%</td>\n",
       "    </tr>\n",
       "    <tr>\n",
       "      <th>2</th>\n",
       "      <td>새틴</td>\n",
       "      <td>백반/한정식</td>\n",
       "      <td>여관/모텔</td>\n",
       "      <td>9.23%</td>\n",
       "    </tr>\n",
       "    <tr>\n",
       "      <th>3</th>\n",
       "      <td>네일즈247</td>\n",
       "      <td>네일숍</td>\n",
       "      <td>네일숍</td>\n",
       "      <td>97.87%</td>\n",
       "    </tr>\n",
       "    <tr>\n",
       "      <th>4</th>\n",
       "      <td>커피랑도서관대구본동점</td>\n",
       "      <td>독서실/스터디 카페</td>\n",
       "      <td>독서실/스터디 카페</td>\n",
       "      <td>99.90%</td>\n",
       "    </tr>\n",
       "    <tr>\n",
       "      <th>...</th>\n",
       "      <td>...</td>\n",
       "      <td>...</td>\n",
       "      <td>...</td>\n",
       "      <td>...</td>\n",
       "    </tr>\n",
       "    <tr>\n",
       "      <th>363693</th>\n",
       "      <td>영구당구클럽</td>\n",
       "      <td>자동차 대여업</td>\n",
       "      <td>의류 대여업</td>\n",
       "      <td>56.40%</td>\n",
       "    </tr>\n",
       "    <tr>\n",
       "      <th>363694</th>\n",
       "      <td>대세칼국수</td>\n",
       "      <td>요양병원</td>\n",
       "      <td>요양병원</td>\n",
       "      <td>96.43%</td>\n",
       "    </tr>\n",
       "    <tr>\n",
       "      <th>363695</th>\n",
       "      <td>지에스25제주용흥점</td>\n",
       "      <td>떡/한과</td>\n",
       "      <td>떡/한과</td>\n",
       "      <td>99.71%</td>\n",
       "    </tr>\n",
       "    <tr>\n",
       "      <th>363696</th>\n",
       "      <td>한터합동공인중개사사무소</td>\n",
       "      <td>가방</td>\n",
       "      <td>여성 의류</td>\n",
       "      <td>15.11%</td>\n",
       "    </tr>\n",
       "    <tr>\n",
       "      <th>363697</th>\n",
       "      <td>미래엔영어수학곤지암학원</td>\n",
       "      <td>건축물 일반 청소</td>\n",
       "      <td>건축물 일반 청소</td>\n",
       "      <td>48.39%</td>\n",
       "    </tr>\n",
       "  </tbody>\n",
       "</table>\n",
       "<p>363698 rows × 4 columns</p>\n",
       "</div>"
      ],
      "text/plain": [
       "               query        pred         label    prob\n",
       "0            캐치캐치아이스        슈퍼마켓          슈퍼마켓  37.68%\n",
       "1                 아엠       여성 의류  명함/간판/광고물 제작  16.42%\n",
       "2                 새틴      백반/한정식         여관/모텔   9.23%\n",
       "3             네일즈247         네일숍           네일숍  97.87%\n",
       "4        커피랑도서관대구본동점  독서실/스터디 카페    독서실/스터디 카페  99.90%\n",
       "...              ...         ...           ...     ...\n",
       "363693        영구당구클럽     자동차 대여업        의류 대여업  56.40%\n",
       "363694         대세칼국수        요양병원          요양병원  96.43%\n",
       "363695    지에스25제주용흥점        떡/한과          떡/한과  99.71%\n",
       "363696  한터합동공인중개사사무소          가방         여성 의류  15.11%\n",
       "363697  미래엔영어수학곤지암학원   건축물 일반 청소     건축물 일반 청소  48.39%\n",
       "\n",
       "[363698 rows x 4 columns]"
      ]
     },
     "execution_count": 27,
     "metadata": {},
     "output_type": "execute_result"
    }
   ],
   "source": [
    "test_query_df"
   ]
  },
  {
   "cell_type": "code",
   "execution_count": 28,
   "id": "282a26e1",
   "metadata": {},
   "outputs": [
    {
     "data": {
      "text/plain": [
       "np.float64(52.467156816919534)"
      ]
     },
     "execution_count": 28,
     "metadata": {},
     "output_type": "execute_result"
    }
   ],
   "source": [
    "score = test_query_df['pred'].eq(test_query_df['label']).sum() / len(test_query_df) * 100\n",
    "score"
   ]
  },
  {
   "cell_type": "code",
   "execution_count": 29,
   "id": "f80e9853",
   "metadata": {},
   "outputs": [
    {
     "data": {
      "application/vnd.microsoft.datawrangler.viewer.v0+json": {
       "columns": [
        {
         "name": "index",
         "rawType": "int64",
         "type": "integer"
        },
        {
         "name": "query",
         "rawType": "object",
         "type": "string"
        },
        {
         "name": "pred",
         "rawType": "object",
         "type": "string"
        },
        {
         "name": "label",
         "rawType": "object",
         "type": "string"
        },
        {
         "name": "prob",
         "rawType": "object",
         "type": "string"
        }
       ],
       "conversionMethod": "pd.DataFrame",
       "ref": "e9b76b1e-4176-4ce9-bd98-aa94867307c9",
       "rows": [
        [
         "1",
         "아엠",
         "여성 의류",
         "명함/간판/광고물 제작",
         "16.42%"
        ],
        [
         "2",
         "새틴",
         "백반/한정식",
         "여관/모텔",
         "9.23%"
        ],
        [
         "5",
         "꿈꾸는요리사",
         "펜션",
         "빵/도넛",
         "7.46%"
        ],
        [
         "6",
         "메타교육",
         "입시·교과학원",
         "요가/필라테스 학원",
         "59.08%"
        ],
        [
         "7",
         "나선재",
         "백반/한정식",
         "펜션",
         "6.79%"
        ],
        [
         "8",
         "평화이앤씨주",
         "건물 및 토목 엔지니어링 서비스",
         "건축 설계 및 관련 서비스",
         "44.93%"
        ],
        [
         "9",
         "약령",
         "백반/한정식",
         "경양식",
         "9.23%"
        ],
        [
         "11",
         "웅진NS",
         "슈퍼마켓",
         "서점",
         "3.88%"
        ],
        [
         "12",
         "삼춘종합집수리",
         "철물/공구",
         "인테리어 디자인업",
         "54.48%"
        ],
        [
         "13",
         "예술창작소숲",
         "전시/컨벤션/행사 대행 서비스",
         "예술품",
         "19.83%"
        ],
        [
         "14",
         "인천밧데리",
         "백반/한정식",
         "자동차 부품",
         "3.21%"
        ],
        [
         "15",
         "망치공장",
         "철물/공구",
         "경양식",
         "45.51%"
        ],
        [
         "16",
         "그랜드점핑",
         "여관/모텔",
         "요가/필라테스 학원",
         "11.27%"
        ],
        [
         "17",
         "N K케미칼",
         "상품 전문 (기타)",
         "자동차 부품",
         "19.74%"
        ],
        [
         "18",
         "루디아크린",
         "변호사",
         "세탁소",
         "13.26%"
        ],
        [
         "24",
         "쌍방울총판",
         "백반/한정식",
         "기타 의류",
         "6.01%"
        ],
        [
         "25",
         "한솔건축",
         "건축 설계 및 관련 서비스",
         "부동산 중개/대리",
         "62.51%"
        ],
        [
         "28",
         "우도마을협동조합",
         "백반/한정식",
         "슈퍼마켓",
         "8.42%"
        ],
        [
         "29",
         "대신양대창",
         "중국집",
         "곱창 전골/구이",
         "95.57%"
        ],
        [
         "31",
         "신성마린",
         "운동용품",
         "가축 사료",
         "22.11%"
        ],
        [
         "32",
         "뚜쥬루과자점",
         "아이스크림/빙수",
         "빵/도넛",
         "86.47%"
        ],
        [
         "36",
         "칠성건어물안주",
         "백반/한정식",
         "건어물/젓갈",
         "6.70%"
        ],
        [
         "37",
         "엠케이비젼",
         "백반/한정식",
         "경영 컨설팅",
         "6.01%"
        ],
        [
         "38",
         "B S토탈",
         "기타 의류",
         "액세서리/잡화",
         "11.47%"
        ],
        [
         "39",
         "다움뷰티앤브로우",
         "피부 관리실",
         "화장품",
         "67.48%"
        ],
        [
         "41",
         "하잇테코이",
         "카페",
         "요리 주점",
         "22.33%"
        ],
        [
         "46",
         "총각호프",
         "백반/한정식",
         "요리 주점",
         "13.97%"
        ],
        [
         "48",
         "강호엔지니어링건축사사무소주",
         "건축 설계 및 관련 서비스",
         "환경 관련 엔지니어링 서비스",
         "91.63%"
        ],
        [
         "54",
         "선비열쇠",
         "철물/공구",
         "개인/가정용품 수리(기타)",
         "74.13%"
        ],
        [
         "55",
         "벨라시타반에이크",
         "법무사",
         "여성 의류",
         "12.62%"
        ],
        [
         "56",
         "세교서울이비인후과",
         "내과/소아과 의원",
         "이비인후과 의원",
         "8.25%"
        ],
        [
         "59",
         "오미마리",
         "백반/한정식",
         "김밥/만두/분식",
         "16.66%"
        ],
        [
         "64",
         "치즈링",
         "피자",
         "빵/도넛",
         "14.31%"
        ],
        [
         "66",
         "조선마루",
         "백반/한정식",
         "돼지고기 구이/찜",
         "54.44%"
        ],
        [
         "69",
         "이도횟집",
         "백반/한정식",
         "횟집",
         "7.87%"
        ],
        [
         "70",
         "최기사카클리닉",
         "동물병원",
         "자동차 정비소",
         "12.32%"
        ],
        [
         "71",
         "이큐앤블럭",
         "기타 오락장",
         "스포츠/레크리에이션 용품 대여업",
         "38.50%"
        ],
        [
         "75",
         "님바래기",
         "요리 주점",
         "펜션",
         "9.85%"
        ],
        [
         "77",
         "동아가설",
         "철물/공구",
         "건설기계/장비 대여업",
         "4.29%"
        ],
        [
         "80",
         "라쿠친",
         "베트남식 전문",
         "일식 회/초밥",
         "22.78%"
        ],
        [
         "82",
         "블룸SMP",
         "백반/한정식",
         "화장품",
         "6.01%"
        ],
        [
         "84",
         "여자도휴게소",
         "백반/한정식",
         "슈퍼마켓",
         "20.45%"
        ],
        [
         "87",
         "킨조베이커리",
         "빵/도넛",
         "경양식",
         "96.70%"
        ],
        [
         "88",
         "한국종합농기계",
         "철물/공구",
         "개인/가정용품 수리(기타)",
         "16.03%"
        ],
        [
         "91",
         "아미브레",
         "빵/도넛",
         "카페",
         "82.67%"
        ],
        [
         "92",
         "쌀롱드보통",
         "치킨",
         "일식 회/초밥",
         "34.55%"
        ],
        [
         "94",
         "예아펠트",
         "기타 기술/직업 훈련학원",
         "기념품점",
         "21.75%"
        ],
        [
         "97",
         "성윤제",
         "백반/한정식",
         "입시·교과학원",
         "9.23%"
        ],
        [
         "98",
         "미미풀",
         "꽃집",
         "기타 오락장",
         "20.14%"
        ],
        [
         "99",
         "송월관2",
         "중국집",
         "돼지고기 구이/찜",
         "43.69%"
        ]
       ],
       "shape": {
        "columns": 4,
        "rows": 172876
       }
      },
      "text/html": [
       "<div>\n",
       "<style scoped>\n",
       "    .dataframe tbody tr th:only-of-type {\n",
       "        vertical-align: middle;\n",
       "    }\n",
       "\n",
       "    .dataframe tbody tr th {\n",
       "        vertical-align: top;\n",
       "    }\n",
       "\n",
       "    .dataframe thead th {\n",
       "        text-align: right;\n",
       "    }\n",
       "</style>\n",
       "<table border=\"1\" class=\"dataframe\">\n",
       "  <thead>\n",
       "    <tr style=\"text-align: right;\">\n",
       "      <th></th>\n",
       "      <th>query</th>\n",
       "      <th>pred</th>\n",
       "      <th>label</th>\n",
       "      <th>prob</th>\n",
       "    </tr>\n",
       "  </thead>\n",
       "  <tbody>\n",
       "    <tr>\n",
       "      <th>1</th>\n",
       "      <td>아엠</td>\n",
       "      <td>여성 의류</td>\n",
       "      <td>명함/간판/광고물 제작</td>\n",
       "      <td>16.42%</td>\n",
       "    </tr>\n",
       "    <tr>\n",
       "      <th>2</th>\n",
       "      <td>새틴</td>\n",
       "      <td>백반/한정식</td>\n",
       "      <td>여관/모텔</td>\n",
       "      <td>9.23%</td>\n",
       "    </tr>\n",
       "    <tr>\n",
       "      <th>5</th>\n",
       "      <td>꿈꾸는요리사</td>\n",
       "      <td>펜션</td>\n",
       "      <td>빵/도넛</td>\n",
       "      <td>7.46%</td>\n",
       "    </tr>\n",
       "    <tr>\n",
       "      <th>6</th>\n",
       "      <td>메타교육</td>\n",
       "      <td>입시·교과학원</td>\n",
       "      <td>요가/필라테스 학원</td>\n",
       "      <td>59.08%</td>\n",
       "    </tr>\n",
       "    <tr>\n",
       "      <th>7</th>\n",
       "      <td>나선재</td>\n",
       "      <td>백반/한정식</td>\n",
       "      <td>펜션</td>\n",
       "      <td>6.79%</td>\n",
       "    </tr>\n",
       "    <tr>\n",
       "      <th>...</th>\n",
       "      <td>...</td>\n",
       "      <td>...</td>\n",
       "      <td>...</td>\n",
       "      <td>...</td>\n",
       "    </tr>\n",
       "    <tr>\n",
       "      <th>363689</th>\n",
       "      <td>꽃남자미용실</td>\n",
       "      <td>백반/한정식</td>\n",
       "      <td>컴퓨터/노트북/프린터 수리</td>\n",
       "      <td>9.23%</td>\n",
       "    </tr>\n",
       "    <tr>\n",
       "      <th>363691</th>\n",
       "      <td>어린왕자QStation</td>\n",
       "      <td>반찬/식료품</td>\n",
       "      <td>채소/과일</td>\n",
       "      <td>53.86%</td>\n",
       "    </tr>\n",
       "    <tr>\n",
       "      <th>363692</th>\n",
       "      <td>션텍스</td>\n",
       "      <td>카페</td>\n",
       "      <td>임시/일용 인력 공급업</td>\n",
       "      <td>14.74%</td>\n",
       "    </tr>\n",
       "    <tr>\n",
       "      <th>363693</th>\n",
       "      <td>영구당구클럽</td>\n",
       "      <td>자동차 대여업</td>\n",
       "      <td>의류 대여업</td>\n",
       "      <td>56.40%</td>\n",
       "    </tr>\n",
       "    <tr>\n",
       "      <th>363696</th>\n",
       "      <td>한터합동공인중개사사무소</td>\n",
       "      <td>가방</td>\n",
       "      <td>여성 의류</td>\n",
       "      <td>15.11%</td>\n",
       "    </tr>\n",
       "  </tbody>\n",
       "</table>\n",
       "<p>172876 rows × 4 columns</p>\n",
       "</div>"
      ],
      "text/plain": [
       "               query     pred           label    prob\n",
       "1                 아엠    여성 의류    명함/간판/광고물 제작  16.42%\n",
       "2                 새틴   백반/한정식           여관/모텔   9.23%\n",
       "5             꿈꾸는요리사       펜션            빵/도넛   7.46%\n",
       "6               메타교육  입시·교과학원      요가/필라테스 학원  59.08%\n",
       "7                나선재   백반/한정식              펜션   6.79%\n",
       "...              ...      ...             ...     ...\n",
       "363689        꽃남자미용실   백반/한정식  컴퓨터/노트북/프린터 수리   9.23%\n",
       "363691  어린왕자QStation   반찬/식료품           채소/과일  53.86%\n",
       "363692           션텍스       카페    임시/일용 인력 공급업  14.74%\n",
       "363693        영구당구클럽  자동차 대여업          의류 대여업  56.40%\n",
       "363696  한터합동공인중개사사무소       가방           여성 의류  15.11%\n",
       "\n",
       "[172876 rows x 4 columns]"
      ]
     },
     "execution_count": 29,
     "metadata": {},
     "output_type": "execute_result"
    }
   ],
   "source": [
    "# Error Analysis\n",
    "error_df = test_query_df[test_query_df['pred'] != test_query_df['label']].copy()\n",
    "error_df"
   ]
  },
  {
   "cell_type": "code",
   "execution_count": 30,
   "id": "95ad0a14",
   "metadata": {},
   "outputs": [],
   "source": [
    "pickle.dump(test_query_df, open('./saved_model/bert-kor-mecab_all_2505071730/test_query_df.pkl', 'wb'))\n",
    "pickle.dump(error_df, open('./saved_model/bert-kor-mecab_all_2505071730/error_df.pkl', 'wb'))"
   ]
  },
  {
   "cell_type": "code",
   "execution_count": 31,
   "id": "39ca47c1",
   "metadata": {},
   "outputs": [
    {
     "data": {
      "application/vnd.microsoft.datawrangler.viewer.v0+json": {
       "columns": [
        {
         "name": "index",
         "rawType": "int64",
         "type": "integer"
        },
        {
         "name": "query",
         "rawType": "object",
         "type": "string"
        },
        {
         "name": "pred",
         "rawType": "object",
         "type": "string"
        },
        {
         "name": "label",
         "rawType": "object",
         "type": "string"
        },
        {
         "name": "prob",
         "rawType": "object",
         "type": "string"
        }
       ],
       "conversionMethod": "pd.DataFrame",
       "ref": "af0db32a-0968-4a87-a49c-f15b52c666fb",
       "rows": [
        [
         "1",
         "아엠",
         "여성 의류",
         "명함/간판/광고물 제작",
         "16.42%"
        ],
        [
         "2",
         "새틴",
         "백반/한정식",
         "여관/모텔",
         "9.23%"
        ],
        [
         "5",
         "꿈꾸는요리사",
         "펜션",
         "빵/도넛",
         "7.46%"
        ],
        [
         "6",
         "메타교육",
         "입시·교과학원",
         "요가/필라테스 학원",
         "59.08%"
        ],
        [
         "7",
         "나선재",
         "백반/한정식",
         "펜션",
         "6.79%"
        ],
        [
         "8",
         "평화이앤씨주",
         "건물 및 토목 엔지니어링 서비스",
         "건축 설계 및 관련 서비스",
         "44.93%"
        ],
        [
         "9",
         "약령",
         "백반/한정식",
         "경양식",
         "9.23%"
        ],
        [
         "11",
         "웅진NS",
         "슈퍼마켓",
         "서점",
         "3.88%"
        ],
        [
         "12",
         "삼춘종합집수리",
         "철물/공구",
         "인테리어 디자인업",
         "54.48%"
        ],
        [
         "13",
         "예술창작소숲",
         "전시/컨벤션/행사 대행 서비스",
         "예술품",
         "19.83%"
        ],
        [
         "14",
         "인천밧데리",
         "백반/한정식",
         "자동차 부품",
         "3.21%"
        ],
        [
         "15",
         "망치공장",
         "철물/공구",
         "경양식",
         "45.51%"
        ],
        [
         "16",
         "그랜드점핑",
         "여관/모텔",
         "요가/필라테스 학원",
         "11.27%"
        ],
        [
         "17",
         "N K케미칼",
         "상품 전문 (기타)",
         "자동차 부품",
         "19.74%"
        ],
        [
         "18",
         "루디아크린",
         "변호사",
         "세탁소",
         "13.26%"
        ],
        [
         "24",
         "쌍방울총판",
         "백반/한정식",
         "기타 의류",
         "6.01%"
        ],
        [
         "25",
         "한솔건축",
         "건축 설계 및 관련 서비스",
         "부동산 중개/대리",
         "62.51%"
        ],
        [
         "28",
         "우도마을협동조합",
         "백반/한정식",
         "슈퍼마켓",
         "8.42%"
        ],
        [
         "29",
         "대신양대창",
         "중국집",
         "곱창 전골/구이",
         "95.57%"
        ],
        [
         "31",
         "신성마린",
         "운동용품",
         "가축 사료",
         "22.11%"
        ]
       ],
       "shape": {
        "columns": 4,
        "rows": 20
       }
      },
      "text/html": [
       "<div>\n",
       "<style scoped>\n",
       "    .dataframe tbody tr th:only-of-type {\n",
       "        vertical-align: middle;\n",
       "    }\n",
       "\n",
       "    .dataframe tbody tr th {\n",
       "        vertical-align: top;\n",
       "    }\n",
       "\n",
       "    .dataframe thead th {\n",
       "        text-align: right;\n",
       "    }\n",
       "</style>\n",
       "<table border=\"1\" class=\"dataframe\">\n",
       "  <thead>\n",
       "    <tr style=\"text-align: right;\">\n",
       "      <th></th>\n",
       "      <th>query</th>\n",
       "      <th>pred</th>\n",
       "      <th>label</th>\n",
       "      <th>prob</th>\n",
       "    </tr>\n",
       "  </thead>\n",
       "  <tbody>\n",
       "    <tr>\n",
       "      <th>1</th>\n",
       "      <td>아엠</td>\n",
       "      <td>여성 의류</td>\n",
       "      <td>명함/간판/광고물 제작</td>\n",
       "      <td>16.42%</td>\n",
       "    </tr>\n",
       "    <tr>\n",
       "      <th>2</th>\n",
       "      <td>새틴</td>\n",
       "      <td>백반/한정식</td>\n",
       "      <td>여관/모텔</td>\n",
       "      <td>9.23%</td>\n",
       "    </tr>\n",
       "    <tr>\n",
       "      <th>5</th>\n",
       "      <td>꿈꾸는요리사</td>\n",
       "      <td>펜션</td>\n",
       "      <td>빵/도넛</td>\n",
       "      <td>7.46%</td>\n",
       "    </tr>\n",
       "    <tr>\n",
       "      <th>6</th>\n",
       "      <td>메타교육</td>\n",
       "      <td>입시·교과학원</td>\n",
       "      <td>요가/필라테스 학원</td>\n",
       "      <td>59.08%</td>\n",
       "    </tr>\n",
       "    <tr>\n",
       "      <th>7</th>\n",
       "      <td>나선재</td>\n",
       "      <td>백반/한정식</td>\n",
       "      <td>펜션</td>\n",
       "      <td>6.79%</td>\n",
       "    </tr>\n",
       "    <tr>\n",
       "      <th>8</th>\n",
       "      <td>평화이앤씨주</td>\n",
       "      <td>건물 및 토목 엔지니어링 서비스</td>\n",
       "      <td>건축 설계 및 관련 서비스</td>\n",
       "      <td>44.93%</td>\n",
       "    </tr>\n",
       "    <tr>\n",
       "      <th>9</th>\n",
       "      <td>약령</td>\n",
       "      <td>백반/한정식</td>\n",
       "      <td>경양식</td>\n",
       "      <td>9.23%</td>\n",
       "    </tr>\n",
       "    <tr>\n",
       "      <th>11</th>\n",
       "      <td>웅진NS</td>\n",
       "      <td>슈퍼마켓</td>\n",
       "      <td>서점</td>\n",
       "      <td>3.88%</td>\n",
       "    </tr>\n",
       "    <tr>\n",
       "      <th>12</th>\n",
       "      <td>삼춘종합집수리</td>\n",
       "      <td>철물/공구</td>\n",
       "      <td>인테리어 디자인업</td>\n",
       "      <td>54.48%</td>\n",
       "    </tr>\n",
       "    <tr>\n",
       "      <th>13</th>\n",
       "      <td>예술창작소숲</td>\n",
       "      <td>전시/컨벤션/행사 대행 서비스</td>\n",
       "      <td>예술품</td>\n",
       "      <td>19.83%</td>\n",
       "    </tr>\n",
       "    <tr>\n",
       "      <th>14</th>\n",
       "      <td>인천밧데리</td>\n",
       "      <td>백반/한정식</td>\n",
       "      <td>자동차 부품</td>\n",
       "      <td>3.21%</td>\n",
       "    </tr>\n",
       "    <tr>\n",
       "      <th>15</th>\n",
       "      <td>망치공장</td>\n",
       "      <td>철물/공구</td>\n",
       "      <td>경양식</td>\n",
       "      <td>45.51%</td>\n",
       "    </tr>\n",
       "    <tr>\n",
       "      <th>16</th>\n",
       "      <td>그랜드점핑</td>\n",
       "      <td>여관/모텔</td>\n",
       "      <td>요가/필라테스 학원</td>\n",
       "      <td>11.27%</td>\n",
       "    </tr>\n",
       "    <tr>\n",
       "      <th>17</th>\n",
       "      <td>N K케미칼</td>\n",
       "      <td>상품 전문 (기타)</td>\n",
       "      <td>자동차 부품</td>\n",
       "      <td>19.74%</td>\n",
       "    </tr>\n",
       "    <tr>\n",
       "      <th>18</th>\n",
       "      <td>루디아크린</td>\n",
       "      <td>변호사</td>\n",
       "      <td>세탁소</td>\n",
       "      <td>13.26%</td>\n",
       "    </tr>\n",
       "    <tr>\n",
       "      <th>24</th>\n",
       "      <td>쌍방울총판</td>\n",
       "      <td>백반/한정식</td>\n",
       "      <td>기타 의류</td>\n",
       "      <td>6.01%</td>\n",
       "    </tr>\n",
       "    <tr>\n",
       "      <th>25</th>\n",
       "      <td>한솔건축</td>\n",
       "      <td>건축 설계 및 관련 서비스</td>\n",
       "      <td>부동산 중개/대리</td>\n",
       "      <td>62.51%</td>\n",
       "    </tr>\n",
       "    <tr>\n",
       "      <th>28</th>\n",
       "      <td>우도마을협동조합</td>\n",
       "      <td>백반/한정식</td>\n",
       "      <td>슈퍼마켓</td>\n",
       "      <td>8.42%</td>\n",
       "    </tr>\n",
       "    <tr>\n",
       "      <th>29</th>\n",
       "      <td>대신양대창</td>\n",
       "      <td>중국집</td>\n",
       "      <td>곱창 전골/구이</td>\n",
       "      <td>95.57%</td>\n",
       "    </tr>\n",
       "    <tr>\n",
       "      <th>31</th>\n",
       "      <td>신성마린</td>\n",
       "      <td>운동용품</td>\n",
       "      <td>가축 사료</td>\n",
       "      <td>22.11%</td>\n",
       "    </tr>\n",
       "  </tbody>\n",
       "</table>\n",
       "</div>"
      ],
      "text/plain": [
       "       query               pred           label    prob\n",
       "1         아엠              여성 의류    명함/간판/광고물 제작  16.42%\n",
       "2         새틴             백반/한정식           여관/모텔   9.23%\n",
       "5     꿈꾸는요리사                 펜션            빵/도넛   7.46%\n",
       "6       메타교육            입시·교과학원      요가/필라테스 학원  59.08%\n",
       "7        나선재             백반/한정식              펜션   6.79%\n",
       "8     평화이앤씨주  건물 및 토목 엔지니어링 서비스  건축 설계 및 관련 서비스  44.93%\n",
       "9         약령             백반/한정식             경양식   9.23%\n",
       "11      웅진NS               슈퍼마켓              서점   3.88%\n",
       "12   삼춘종합집수리              철물/공구       인테리어 디자인업  54.48%\n",
       "13    예술창작소숲   전시/컨벤션/행사 대행 서비스             예술품  19.83%\n",
       "14     인천밧데리             백반/한정식          자동차 부품   3.21%\n",
       "15      망치공장              철물/공구             경양식  45.51%\n",
       "16     그랜드점핑              여관/모텔      요가/필라테스 학원  11.27%\n",
       "17    N K케미칼         상품 전문 (기타)          자동차 부품  19.74%\n",
       "18     루디아크린                변호사             세탁소  13.26%\n",
       "24     쌍방울총판             백반/한정식           기타 의류   6.01%\n",
       "25      한솔건축     건축 설계 및 관련 서비스       부동산 중개/대리  62.51%\n",
       "28  우도마을협동조합             백반/한정식            슈퍼마켓   8.42%\n",
       "29     대신양대창                중국집        곱창 전골/구이  95.57%\n",
       "31      신성마린               운동용품           가축 사료  22.11%"
      ]
     },
     "execution_count": 31,
     "metadata": {},
     "output_type": "execute_result"
    }
   ],
   "source": [
    "test_query_df = pickle.load(open('./saved_model/bert-kor-mecab_all_2505071730/test_query_df.pkl', 'rb'))\n",
    "error_df = pickle.load(open('./saved_model/bert-kor-mecab_all_2505071730/error_df.pkl', 'rb'))\n",
    "error_df.head(20)"
   ]
  },
  {
   "cell_type": "code",
   "execution_count": 32,
   "id": "2f2c56ad",
   "metadata": {},
   "outputs": [
    {
     "name": "stdout",
     "output_type": "stream",
     "text": [
      "                      precision    recall  f1-score   support\n",
      "\n",
      "                 PC방     0.5088    0.5014    0.5051      1037\n",
      "                  가구     0.6776    0.5046    0.5785      1508\n",
      "                  가발     0.4000    0.0552    0.0970       145\n",
      "                  가방     0.5855    0.3145    0.4092       566\n",
      "              가스 충전소     0.7672    0.5443    0.6369       327\n",
      "                가전제품     0.3470    0.2545    0.2937      1163\n",
      "             가전제품 수리     0.4204    0.4386    0.4293      1662\n",
      "              가정용 연료     0.7988    0.7167    0.7556       759\n",
      "         가죽/가방/신발 수선     0.6538    0.2537    0.3656       134\n",
      "               가축 사료     0.4828    0.0547    0.0982       256\n",
      "          간이 음식점(기타)     0.4907    0.0911    0.1536      1153\n",
      "      개인/가정용품 수리(기타)     0.5447    0.3272    0.4088      1247\n",
      "              건강보조식품     0.5657    0.5164    0.5399      2351\n",
      "   건물 및 토목 엔지니어링 서비스     0.2933    0.3448    0.3170      1160\n",
      "             건설/건축자재     0.5845    0.4213    0.4897       197\n",
      "         건설기계/장비 대여업     0.3683    0.3970    0.3821       539\n",
      "              건어물/젓갈     0.7290    0.1635    0.2671       691\n",
      "      건축 설계 및 관련 서비스     0.5084    0.4588    0.4824      3086\n",
      "           건축물 일반 청소     0.4071    0.5568    0.4703      2554\n",
      "           결혼 상담 서비스     0.7590    0.4950    0.5992       299\n",
      "                 경양식     0.3579    0.2033    0.2593      2695\n",
      "              경영 컨설팅     0.2498    0.5166    0.3367      8250\n",
      "              고용 알선업     0.6444    0.5548    0.5962      1633\n",
      "               곡물/곡분     0.6463    0.2000    0.3055       265\n",
      "              골프 연습장     0.6812    0.5575    0.6132      1713\n",
      "            곱창 전골/구이     0.7992    0.6859    0.7383       882\n",
      "               공인노무사     0.7069    0.5829    0.6390       211\n",
      "               공인회계사     0.8065    0.2632    0.3968       285\n",
      "               광고 대행     0.2460    0.2434    0.2447      4479\n",
      "            광고 매체 판매     0.0000    0.0000    0.0000        74\n",
      "          광고물 설계/제작업     0.0000    0.0000    0.0000      1066\n",
      "            교육기관(기타)     0.1896    0.0865    0.1188      1306\n",
      "               교육컨설팅     0.2799    0.1990    0.2326       824\n",
      "                구내식당     0.5913    0.3831    0.4649      1133\n",
      "             국/탕/찌개류     0.5668    0.4506    0.5021      3928\n",
      "              국수/칼국수     0.8048    0.5792    0.6736      2626\n",
      "                기념품점     0.2432    0.0933    0.1349       868\n",
      "             기숙사/고시원     0.6392    0.4223    0.5086       734\n",
      "      기타 개인/가정용품 대여업     0.3812    0.1491    0.2144       570\n",
      "          기타 건설/건축자재     0.2941    0.0893    0.1370       280\n",
      "        기타 광고 관련 서비스     0.7727    0.0609    0.1130       279\n",
      "         기타 교육지원 서비스     0.4198    0.1664    0.2383      1226\n",
      "       기타 기술/직업 훈련학원     0.4169    0.4055    0.4111      2629\n",
      "          기타 동남아식 전문     0.7021    0.4925    0.5789        67\n",
      "         기타 법무관련 서비스     0.0000    0.0000    0.0000        32\n",
      "        기타 사무 지원 서비스     0.0000    0.0000    0.0000       244\n",
      "    기타 산업용 기계/장비 대여업     0.2205    0.0481    0.0790       582\n",
      "          기타 서양식 음식점     0.5532    0.1818    0.2737       143\n",
      "        기타 스포츠시설 운영업     0.4059    0.1306    0.1976       314\n",
      "        기타 엔지니어링 서비스     0.2116    0.1615    0.1832      1672\n",
      "     기타 여행 보조/예약 서비스     0.3750    0.0115    0.0223       261\n",
      "      기타 예술/스포츠 교육기관     0.5359    0.3681    0.4365       891\n",
      "         기타 오락관련 서비스     0.3279    0.1757    0.2288       808\n",
      "              기타 오락장     0.4006    0.3719    0.3857       769\n",
      "         기타 운송장비 대여업     0.5172    0.2988    0.3788       251\n",
      "               기타 의류     0.3458    0.3024    0.3227      6243\n",
      "               기타 의원     0.6657    0.5696    0.6139       395\n",
      "           기타 일식 음식점     0.6296    0.5484    0.5862        62\n",
      "           기타 한식 음식점     0.8639    0.4911    0.6262       336\n",
      "        기타 회계 관련 서비스     0.0000    0.0000    0.0000        11\n",
      "            김밥/만두/분식     0.8564    0.6770    0.7562      5266\n",
      "                  꽃집     0.6542    0.4830    0.5557      2758\n",
      "             낚시터 운영업     0.9444    0.1667    0.2833       102\n",
      "               남성 의류     0.5840    0.2079    0.3066      1087\n",
      "           내과/소아과 의원     0.4570    0.6343    0.5312      1214\n",
      "               냉면/밀면     0.8750    0.5530    0.6777       481\n",
      "                 네일숍     0.8630    0.7297    0.7908      2978\n",
      "                 노래방     0.8021    0.8602    0.8302      1824\n",
      "         닭/오리고기 구이/찜     0.8140    0.5716    0.6716      1118\n",
      "             담배/전자담배     0.6986    0.5145    0.5926       482\n",
      "                 당구장     0.4776    0.3925    0.4309      1167\n",
      "   도시 계획 및 조경 설계 서비스     0.5116    0.1419    0.2222       310\n",
      "          독서실/스터디 카페     0.8916    0.7001    0.7843      1574\n",
      "                동물병원     0.9552    0.9465    0.9508       654\n",
      "           돼지고기 구이/찜     0.6809    0.5391    0.6018      7911\n",
      "                떡/한과     0.8672    0.6337    0.7323      1144\n",
      "         레크리에이션 교육기관     0.5266    0.2682    0.3554       850\n",
      "              마라탕/훠궈     0.8697    0.8917    0.8805       434\n",
      "              마사지/안마     0.3791    0.3586    0.3686       778\n",
      "                 만화방     0.4750    0.2088    0.2901        91\n",
      "        명함/간판/광고물 제작     0.5034    0.5263    0.5146      2531\n",
      "          모터사이클 및 부품     0.4118    0.0233    0.0442       300\n",
      "            모터사이클 수리     0.6138    0.4988    0.5503       411\n",
      "             목욕탕/사우나     0.7488    0.5953    0.6633       761\n",
      "            무도 유흥 주점     0.8000    0.0620    0.1151       129\n",
      "             문구/회화용품     0.6801    0.5058    0.5801      1303\n",
      "                미술학원     0.8150    0.8494    0.8318      1587\n",
      "                 미용실     0.7677    0.7595    0.7636     12686\n",
      "     바둑/장기/체스 경기 운영업     0.6800    0.4928    0.5714        69\n",
      "              반찬/식료품     0.5278    0.3435    0.4162      1991\n",
      "     방사선 진단/병리 검사 의원     0.7000    0.4912    0.5773        57\n",
      "              백반/한정식     0.2245    0.6498    0.3337     20417\n",
      "                  버거     0.8897    0.9305    0.9096       676\n",
      "           번역/통역 서비스     0.7372    0.2205    0.3395       458\n",
      "                 법무사     0.1711    0.7056    0.2755      1284\n",
      "             베트남식 전문     0.4672    0.3113    0.3736       800\n",
      "            벽지/장판/마루     0.7437    0.3771    0.5005       708\n",
      "                 변리사     0.7306    0.8211    0.7732       218\n",
      "                 변호사     0.8794    0.7285    0.7968      1591\n",
      "             복 요리 전문     0.6118    0.5417    0.5746        96\n",
      "            복권 발행/판매     0.6451    0.3367    0.4424       799\n",
      "                 복사업     0.6552    0.5352    0.5891       284\n",
      "                 볼링장     0.7816    0.3820    0.5132       178\n",
      "           부동산 중개/대리     0.8133    0.8427    0.8277     11039\n",
      "       분류 안된 외국식 음식점     0.0000    0.0000    0.0000         6\n",
      "                  뷔페     0.8968    0.8519    0.8737       459\n",
      "                비디오방     0.0000    0.0000    0.0000        17\n",
      "                빵/도넛     0.6706    0.5104    0.5796      4606\n",
      "                사무기기     0.5211    0.1440    0.2256       257\n",
      "        사업/무형 재산권 중개     0.5405    0.0501    0.0917       399\n",
      "      사업시설 유지·관리 서비스     0.3569    0.1076    0.1654       985\n",
      "         사진기/기타 광학기기     0.5455    0.0698    0.1237        86\n",
      "               사진촬영업     0.5595    0.5595    0.5595      3108\n",
      "              사회교육시설     0.3194    0.1484    0.2026       155\n",
      "             산부인과 의원     0.8571    0.2946    0.4385       224\n",
      "산업설비; 운송장비 및 공공장소 청소     0.3901    0.1072    0.1682       513\n",
      " 상용 인력 공급 및 인사관리 서비스     0.0000    0.0000    0.0000       333\n",
      "          상품 전문 (기타)     0.4841    0.2380    0.3191      1983\n",
      "              생맥주 전문     0.7086    0.4326    0.5372      1692\n",
      "               생수/음료     0.4500    0.0495    0.0891       182\n",
      "                  서점     0.3665    0.1199    0.1807      1076\n",
      "             성형외과 의원     0.4931    0.2448    0.3272       290\n",
      "                 세무사     0.6567    0.7532    0.7016      2237\n",
      "                 세탁소     0.6322    0.4890    0.5515      2137\n",
      "              셀프 빨래방     0.8841    0.8433    0.8632       651\n",
      "            소고기 구이/찜     0.6347    0.6857    0.6592       859\n",
      "     소독; 구충 및 방제 서비스     0.6953    0.2803    0.3996       635\n",
      "                 수산물     0.6165    0.5053    0.5554      1136\n",
      "           수상/해양 레저업     0.2712    0.3077    0.2883       208\n",
      "                 수영장     0.6667    0.1220    0.2062        82\n",
      "             숙박업(기타)     0.0000    0.0000    0.0000        81\n",
      "                슈퍼마켓     0.5388    0.5463    0.5426      7671\n",
      "            스쿼시/라켓볼장     0.0000    0.0000    0.0000        32\n",
      "   스포츠/레크리에이션 용품 대여업     0.4779    0.1459    0.2236       370\n",
      "             시각 디자인업     0.2313    0.2012    0.2152      2152\n",
      "              시계/귀금속     0.5269    0.3703    0.4349      1083\n",
      "        시계/귀금속/악기 수리     0.2000    0.0139    0.0260        72\n",
      "      시장 조사 및 여론 조사업     0.0000    0.0000    0.0000       237\n",
      "           신경/정신과 의원     0.9344    0.8674    0.8996       279\n",
      "                  신발     0.5402    0.4068    0.4641      1057\n",
      "              실/섬유제품     0.4098    0.1736    0.2439       432\n",
      "           아이스크림 할인점     1.0000    0.2963    0.4571        27\n",
      "            아이스크림/빙수     0.6872    0.8000    0.7393       335\n",
      "                  악기     0.5517    0.5199    0.5353       277\n",
      "                안경렌즈     0.8388    0.6829    0.7529      1151\n",
      "               안과 의원     0.7385    0.5275    0.6154       182\n",
      "           애완동물/애완용품     0.6404    0.5477    0.5905      1603\n",
      "             액세서리/잡화     0.4211    0.0930    0.1524       688\n",
      "                  약국     0.9707    0.9604    0.9655      2173\n",
      "                  얼음     0.7778    0.5833    0.6667        24\n",
      "               여관/모텔     0.5624    0.3596    0.4387      2809\n",
      "               여성 의류     0.2809    0.2224    0.2483      3431\n",
      "                 여행사     0.6560    0.5622    0.6055      2195\n",
      "                 예술품     0.3645    0.3350    0.3492       976\n",
      "                예식장업     0.6038    0.2689    0.3721       119\n",
      "         옥외/전시 광고 대행     0.1667    0.0040    0.0079       247\n",
      "               외과 의원     0.4926    0.4642    0.4779       642\n",
      "               외국어학원     0.7982    0.3552    0.4916       991\n",
      "          요가/필라테스 학원     0.7171    0.6361    0.6742      3276\n",
      "               요리 주점     0.3394    0.2002    0.2518      6934\n",
      "                요양병원     0.7406    0.8282    0.7820       262\n",
      "                  우유     0.6719    0.4574    0.5443        94\n",
      "                운동용품     0.4725    0.3193    0.3811      1641\n",
      "                운전학원     0.9091    0.5926    0.7175       135\n",
      "              유사 의료업     0.4626    0.5809    0.5150       575\n",
      "              유아용 의류     0.3614    0.2944    0.3245       540\n",
      "             음반/비디오물     0.0000    0.0000    0.0000        61\n",
      "         음반/비디오물 대여업     0.0000    0.0000    0.0000        15\n",
      "                음악학원     0.8758    0.7742    0.8218      2440\n",
      "                의료기기     0.4822    0.3480    0.4043      1089\n",
      "              의류 대여업     0.4603    0.3571    0.4022       308\n",
      "            의류/이불 수선     0.8104    0.5702    0.6694       847\n",
      "            이비인후과 의원     1.0000    0.0084    0.0167       237\n",
      "           인테리어 디자인업     0.8127    0.6818    0.7415      2794\n",
      "            일반 유흥 주점     0.5258    0.4835    0.5037      2575\n",
      "                일반병원     0.6305    0.5845    0.6066       219\n",
      "             일식 면 요리     0.9024    0.4868    0.6325       304\n",
      "        일식 카레/돈가스/덮밥     0.6855    0.6028    0.6415       282\n",
      "             일식 회/초밥     0.5893    0.4953    0.5383      2471\n",
      "        임시/일용 인력 공급업     0.0580    0.0043    0.0080       928\n",
      "             입시·교과학원     0.8145    0.7982    0.8063     10593\n",
      "             자동차 대여업     0.3416    0.2700    0.3016       563\n",
      "              자동차 부품     0.4914    0.2457    0.3276      1160\n",
      "             자동차 세차장     0.7297    0.5631    0.6357      2138\n",
      "             자동차 정비소     0.5657    0.6824    0.6186      5539\n",
      "                 자전거     0.5500    0.4583    0.5000       408\n",
      "                 장난감     0.6737    0.4118    0.5112       777\n",
      "                장례식장     0.5418    0.4486    0.4908       593\n",
      "               전/부침개     0.0000    0.0000    0.0000       123\n",
      "           전기용품/조명장치     0.6721    0.5056    0.5770       900\n",
      "           전문자격/고시학원     0.8235    0.1321    0.2276       106\n",
      "    전시/컨벤션/행사 대행 서비스     0.3801    0.1739    0.2386      1806\n",
      "              전자 게임장     0.5874    0.5261    0.5550       230\n",
      "                 정육점     0.5799    0.5037    0.5391      2406\n",
      "             제품 디자인업     0.0000    0.0000    0.0000       695\n",
      "        조경 유지·관리 서비스     0.5619    0.4245    0.4836       278\n",
      "               족발/보쌈     0.9104    0.9442    0.9270       968\n",
      "             종합 (기타)     0.5222    0.1417    0.2229       748\n",
      "            종합 스포츠시설     0.4000    0.0381    0.0696       105\n",
      "                종합병원     0.4744    0.4458    0.4596        83\n",
      "                  주류     0.4286    0.4118    0.4200       153\n",
      "             주방/가정용품     0.6015    0.2855    0.3872      1909\n",
      "                 주유소     0.5657    0.3836    0.4572      1817\n",
      "               중고 상품     0.6153    0.4125    0.4939      1365\n",
      "                 중국집     0.5576    0.4910    0.5222      3096\n",
      "             직원 훈련기관     0.2259    0.1495    0.1799       455\n",
      "               채소/과일     0.5004    0.4278    0.4613      2646\n",
      "               철물/공구     0.3496    0.4534    0.3948      2144\n",
      "            청소년 수련시설     0.6400    0.2238    0.3316       143\n",
      "            체형/비만 관리     0.4713    0.2520    0.3284       488\n",
      "                치과병원     0.9231    0.5538    0.6923        65\n",
      "                치과의원     0.9345    0.9775    0.9555      1825\n",
      "                  치킨     0.8157    0.7355    0.7736      4677\n",
      "              침구류/커튼     0.6017    0.4063    0.4851      1201\n",
      "                  카페     0.4668    0.6359    0.5384     17116\n",
      "              캠핑/글램핑     0.5742    0.6277    0.5998       419\n",
      "              컴퓨터 학원     0.6289    0.5837    0.6055       209\n",
      "      컴퓨터/노트북/프린터 수리     0.4752    0.4645    0.4698       846\n",
      "        컴퓨터/사무기기 대여업     0.2920    0.0951    0.1435       347\n",
      "           컴퓨터/소프트웨어     0.2138    0.1434    0.1716       865\n",
      "                 타이어     0.4754    0.2479    0.3258       234\n",
      "                 탁구장     0.9050    0.6689    0.7692       299\n",
      "            태권도/무술학원     0.7831    0.6362    0.7021      2015\n",
      "                테니스장     0.7162    0.4829    0.5769       439\n",
      "        토스트/샌드위치/샐러드     0.8583    0.7518    0.8015       419\n",
      "            파스타/스테이크     0.8427    0.9026    0.8716       267\n",
      "             패밀리레스토랑     0.6182    0.6939    0.6538        49\n",
      "    패션/섬유/기타 전문 디자인업     1.0000    0.0025    0.0051       395\n",
      "                  펜션     0.5220    0.5457    0.5336      5633\n",
      "                 편의점     0.7869    0.8898    0.8352      9154\n",
      "              포장/충전업     0.2688    0.1604    0.2009       424\n",
      "              피부 관리실     0.5945    0.6669    0.6286      4888\n",
      "          피부/비뇨기과 의원     0.7443    0.6341    0.6848       675\n",
      "                  피자     0.7540    0.4882    0.5927      2210\n",
      "                한방병원     0.9032    0.8842    0.8936        95\n",
      "                  한복     0.4211    0.0516    0.0920       155\n",
      "                 한의원     0.9228    0.7304    0.8154      1261\n",
      "            해산물 구이/찜     0.8009    0.6187    0.6981      2093\n",
      "                 핸드폰     0.7327    0.5289    0.6143      2664\n",
      "         핸드폰/통신장비 수리     0.6983    0.3306    0.4488       245\n",
      "                 행정사     0.3646    0.1551    0.2177       651\n",
      "                 헬스장     0.5723    0.5247    0.5474      2249\n",
      "              호텔/리조트     0.4806    0.1944    0.2768       319\n",
      "          화장터/묘지/납골당     0.4607    0.2240    0.3015       183\n",
      "                 화장품     0.5565    0.2748    0.3679      3530\n",
      "     환경 관련 엔지니어링 서비스     0.2846    0.1928    0.2299       363\n",
      "                  횟집     0.4784    0.2691    0.3445      2638\n",
      "\n",
      "            accuracy                         0.5247    363698\n",
      "           macro avg     0.5561    0.3975    0.4384    363698\n",
      "        weighted avg     0.5679    0.5247    0.5248    363698\n",
      "\n"
     ]
    }
   ],
   "source": [
    "print(classification_report(test_query_df['label'], test_query_df['pred'], digits=4, zero_division=0))"
   ]
  },
  {
   "cell_type": "code",
   "execution_count": null,
   "id": "0b02c59c",
   "metadata": {},
   "outputs": [],
   "source": []
  }
 ],
 "metadata": {
  "kernelspec": {
   "display_name": ".venv",
   "language": "python",
   "name": "python3"
  },
  "language_info": {
   "codemirror_mode": {
    "name": "ipython",
    "version": 3
   },
   "file_extension": ".py",
   "mimetype": "text/x-python",
   "name": "python",
   "nbconvert_exporter": "python",
   "pygments_lexer": "ipython3",
   "version": "3.10.7"
  }
 },
 "nbformat": 4,
 "nbformat_minor": 5
}
